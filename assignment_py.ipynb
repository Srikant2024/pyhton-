{
  "nbformat": 4,
  "nbformat_minor": 0,
  "metadata": {
    "colab": {
      "provenance": [],
      "authorship_tag": "ABX9TyM1uA2pBQv6UDytTfTkMEYX",
      "include_colab_link": true
    },
    "kernelspec": {
      "name": "python3",
      "display_name": "Python 3"
    },
    "language_info": {
      "name": "python"
    }
  },
  "cells": [
    {
      "cell_type": "markdown",
      "metadata": {
        "id": "view-in-github",
        "colab_type": "text"
      },
      "source": [
        "<a href=\"https://colab.research.google.com/github/Srikant2024/pyhton-/blob/main/assignment_py.ipynb\" target=\"_parent\"><img src=\"https://colab.research.google.com/assets/colab-badge.svg\" alt=\"Open In Colab\"/></a>"
      ]
    },
    {
      "cell_type": "markdown",
      "source": [
        "# **All assignments**\n",
        "# name-srikant barik\n",
        "# *sic-22bcsf40*"
      ],
      "metadata": {
        "id": "xOJ4mz1QndgF"
      }
    },
    {
      "cell_type": "markdown",
      "source": [
        "**assignment1**"
      ],
      "metadata": {
        "id": "-uc5s0QZhmuD"
      }
    },
    {
      "cell_type": "markdown",
      "source": [],
      "metadata": {
        "id": "gAA7a3WVbXQQ"
      }
    },
    {
      "cell_type": "code",
      "execution_count": null,
      "metadata": {
        "id": "eX2k4Lq4Wwg6",
        "colab": {
          "base_uri": "https://localhost:8080/"
        },
        "outputId": "647629ee-65dc-4b7b-f308-0ae90f6899ac"
      },
      "outputs": [
        {
          "output_type": "stream",
          "name": "stdout",
          "text": [
            "enter the length of the side of the square4\n",
            "area of square is:\n",
            "16.0\n"
          ]
        }
      ],
      "source": [
        "#wap to calculate area of square using python\n",
        "import math\n",
        "side=float(input(\"enter the length of the side of the square\"))\n",
        "Area=pow(side,2)\n",
        "print(\"area of square is:\")\n",
        "print(Area)"
      ]
    },
    {
      "cell_type": "markdown",
      "source": [],
      "metadata": {
        "id": "dn3oGc3ChhaD"
      }
    },
    {
      "cell_type": "code",
      "source": [
        "# wap to calculate the circumference of a circle\n",
        "d=float(input(\"enter the diameter:\"))\n",
        "r=d/2\n",
        "c=2*r*3.14\n",
        "print(\"circumference =\")\n",
        "print(c)"
      ],
      "metadata": {
        "id": "X3lGOovlXGKq",
        "colab": {
          "base_uri": "https://localhost:8080/"
        },
        "outputId": "2152ca78-a764-4464-d3a6-0b6c089d826d"
      },
      "execution_count": null,
      "outputs": [
        {
          "output_type": "stream",
          "name": "stdout",
          "text": [
            "enter the diameter:4\n",
            "circumference =\n",
            "12.56\n"
          ]
        }
      ]
    },
    {
      "cell_type": "code",
      "source": [
        "# wap to find the oppsite face of the dice\n",
        "a=int(input(\"enter the no on dice\"))\n",
        "b=7-a\n",
        "print(\"oppsite face of the dice is:\")\n",
        "print(b)"
      ],
      "metadata": {
        "colab": {
          "base_uri": "https://localhost:8080/"
        },
        "id": "7Z0qC13FXXEK",
        "outputId": "7a3c57fd-fb10-46d7-b7c8-7823a28970e1"
      },
      "execution_count": null,
      "outputs": [
        {
          "output_type": "stream",
          "name": "stdout",
          "text": [
            "enter the no on dice4\n",
            "oppsite face of the dice is:\n",
            "3\n"
          ]
        }
      ]
    },
    {
      "cell_type": "code",
      "source": [
        "#wap to find gcd of two numbers using python\n",
        "a=int(input(\"enter the first no:\"))\n",
        "b=int(input(\"enter the second no:\"))\n",
        "r1=a\n",
        "r2=b\n",
        "while r2>0:\n",
        "    r=r1%r2\n",
        "    r1=r2\n",
        "    r2=r\n",
        "gcd=r1\n",
        "print(\"gcd of two numbers is:\")\n",
        "print(gcd)"
      ],
      "metadata": {
        "colab": {
          "base_uri": "https://localhost:8080/"
        },
        "id": "NmNw5ObyXnhV",
        "outputId": "a98cf763-1fcb-40bc-a943-891dc30400f5"
      },
      "execution_count": null,
      "outputs": [
        {
          "output_type": "stream",
          "name": "stdout",
          "text": [
            "enter the first no:48\n",
            "enter the second no:60\n",
            "gcd of two numbers is:\n",
            "12\n"
          ]
        }
      ]
    },
    {
      "cell_type": "code",
      "source": [
        "# wap to  find distance  b/w to co-ordinates\n",
        "import math\n",
        "x1=float(input(\"enter the x co-ordinate of 1st point:\"))\n",
        "y1=float(input(\"enter the y co-ordinate of 1st point:\"))\n",
        "x2=float(input(\"enter the x co-ordinate of 2nd point:\"))\n",
        "y2=float(input(\"enter the x co-ordinate of 2nd point:\"))\n",
        "distance=math.sqrt((pow((x2-x1),2))+(pow((y2-y1),2)))\n",
        "print(\"distance is:\")\n",
        "print(distance)"
      ],
      "metadata": {
        "colab": {
          "base_uri": "https://localhost:8080/"
        },
        "id": "LH6VVMCUXpei",
        "outputId": "a7a6c19e-ef0f-4c25-a63a-ef4ea47f7065"
      },
      "execution_count": null,
      "outputs": [
        {
          "output_type": "stream",
          "name": "stdout",
          "text": [
            "enter the x co-ordinate of 1st point:8\n",
            "enter the y co-ordinate of 1st point:8\n",
            "enter the x co-ordinate of 2nd point:4\n",
            "enter the x co-ordinate of 2nd point:4\n",
            "distance is:\n",
            "5.656854249492381\n"
          ]
        }
      ]
    },
    {
      "cell_type": "markdown",
      "source": [
        "**assignment 2**\n",
        "\n",
        "\n"
      ],
      "metadata": {
        "id": "tvnZFY2Sf9ue"
      }
    },
    {
      "cell_type": "code",
      "source": [
        "#wap to compute simple interest\n",
        "p=float(input(\"enter the principal amount\"))  #p= principal amount\n",
        "r=float(input(\"enter the rate \"))  #r=rate of interest\n",
        "t=float(input(\"enter the time\"))  #t= time\n",
        "si=(p*t*r)/100\n",
        "print(\"sample interest is:\",si)"
      ],
      "metadata": {
        "colab": {
          "base_uri": "https://localhost:8080/"
        },
        "id": "WwSAttLPf0KL",
        "outputId": "de33408f-dbc4-43b6-a5d7-15b3623340cc"
      },
      "execution_count": null,
      "outputs": [
        {
          "output_type": "stream",
          "name": "stdout",
          "text": [
            "enter the principal amount1000\n",
            "enter the rate 3\n",
            "enter the time2\n",
            "sample interest is: 60.0\n"
          ]
        }
      ]
    },
    {
      "cell_type": "code",
      "source": [
        "#get the name and birth year from the user and print it\n",
        "name=(input(\" enter your name\"))\n",
        "birth_year=int(input(\"enter your birth_year\"))\n",
        "current_year=2023\n",
        "age=current_year-birth_year   #calculate the age\n",
        "print(\"hello\",name,\"you are\",age,\"years old\")\n",
        "\n"
      ],
      "metadata": {
        "id": "YBlJku7VaHG3"
      },
      "execution_count": null,
      "outputs": []
    },
    {
      "cell_type": "code",
      "source": [
        "# wap to read a positive number from the user and then display the sum of all no's from 1 to n\n",
        "#use sum formula:n(n+1)/2\n",
        "n=int(input(\"enter a positive number\"))\n",
        "sum=(n*(n+1))/2\n",
        "print(\"the sum of first\",n,\"positive integers\",sum)"
      ],
      "metadata": {
        "colab": {
          "base_uri": "https://localhost:8080/"
        },
        "id": "o7KsYIEXf7gf",
        "outputId": "5673aa8d-791b-4f36-daa8-70c8ba879b84"
      },
      "execution_count": null,
      "outputs": [
        {
          "output_type": "stream",
          "name": "stdout",
          "text": [
            "enter a positive number10\n",
            "the sum of first 10 positive integers 55.0\n"
          ]
        }
      ]
    },
    {
      "cell_type": "code",
      "source": [
        "#get the radious of a circle and calculate the area and volume of a sphere display the output upto 2 decimals places\n",
        "r=float(input(\"enter the radius\"))\n",
        "area=3.14*r*r\n",
        "volume=4/3*3.14*r*r*r\n",
        "print(\"area of circle is:\", round(area,2))   # round function is used for round upto 2 decimal\n",
        "print(\"volume of sephere is:\",round(volume,2))"
      ],
      "metadata": {
        "colab": {
          "base_uri": "https://localhost:8080/"
        },
        "id": "xNwMbACkf7wo",
        "outputId": "6ed154ae-86f0-4d57-d6e1-f38483be4314"
      },
      "execution_count": null,
      "outputs": [
        {
          "output_type": "stream",
          "name": "stdout",
          "text": [
            "enter the radius4\n",
            "area of circle is: 50.24\n",
            "volume of sephere is: 267.95\n"
          ]
        }
      ]
    },
    {
      "cell_type": "markdown",
      "source": [
        "**assignment3**\n",
        "\n",
        "\n",
        "\n"
      ],
      "metadata": {
        "id": "WBf7pXlpDm2o"
      }
    },
    {
      "cell_type": "code",
      "source": [
        "# find the no of alphabet in a string\n",
        "str1=(input(\"enter a string:\"))\n",
        "alphabet_count=0\n",
        "for char in str1:\n",
        "    if char.isalpha():\n",
        "        alphabet_count+=1    # additon assignment operatpr\n",
        "print(\" number of alphabet:\",alphabet_count)"
      ],
      "metadata": {
        "colab": {
          "base_uri": "https://localhost:8080/"
        },
        "id": "5X8unQFwDsJJ",
        "outputId": "e2350218-a5f0-48c1-e2eb-0bc01af6b8fd"
      },
      "execution_count": null,
      "outputs": [
        {
          "output_type": "stream",
          "name": "stdout",
          "text": [
            "enter a string:ms dhoni\n",
            " number of alphabet: 7\n"
          ]
        }
      ]
    },
    {
      "cell_type": "code",
      "source": [
        "# input two string and print maximum length string\n",
        "str1=input(\"enter  the first string:\")\n",
        "str2=input(\"enter the seccend string:\")\n",
        "length1=len(str1)\n",
        "length2=len(str2)\n",
        "if (length1 > length2 ):\n",
        "    print(str1)\n",
        "elif(length2 > length1):\n",
        "    print(str2)\n",
        "else:\n",
        "    print(str1)      # if str1 and str2 have same length then print one by one\n",
        "    print(str2)"
      ],
      "metadata": {
        "colab": {
          "base_uri": "https://localhost:8080/"
        },
        "id": "2VDzfNUoD4pM",
        "outputId": "098a6560-f02e-484b-dd5f-9002d9ea6a96"
      },
      "execution_count": null,
      "outputs": [
        {
          "output_type": "stream",
          "name": "stdout",
          "text": [
            "enter  the first string: school\n",
            "enter the seccend string:college\n",
            " school\n",
            "college\n"
          ]
        }
      ]
    },
    {
      "cell_type": "code",
      "source": [
        "#find  leap year\n",
        "year=int(input(\" enter a year:\"))\n",
        "if  ( year % 4 == 0 and year %   100 != 0):\n",
        "    print( \"  it is a leap year:\",year)\n",
        "elif( year %400==0 ):\n",
        "    print(\" it is a leap year:\",year)\n",
        "else:\n",
        "    print(\"it is not a leap year:\",year)\n"
      ],
      "metadata": {
        "colab": {
          "base_uri": "https://localhost:8080/"
        },
        "id": "FWvlYiaMEP8k",
        "outputId": "e7472c46-a19d-4d4f-92cb-a8cfcef9faff"
      },
      "execution_count": null,
      "outputs": [
        {
          "output_type": "stream",
          "name": "stdout",
          "text": [
            " enter a year:2012\n",
            "  it is a leap year: 2012\n"
          ]
        }
      ]
    },
    {
      "cell_type": "code",
      "source": [
        "# calculate the no of letter and digit of a string\n",
        "letter_count=0\n",
        "digit_count=0\n",
        "sentence=input(\"enter a sentence:\")\n",
        "for char in sentence:\n",
        "    if char.isalpha():\n",
        "      letter_count +=1       #addition assignment operator\n",
        "    elif char.isdigit():\n",
        "       digit_count +=1        #addition assignment operator\n",
        "print(f\"letters  {letter_count} digits   {digit_count}\")"
      ],
      "metadata": {
        "colab": {
          "base_uri": "https://localhost:8080/"
        },
        "id": "kJZKy-SSEc_a",
        "outputId": "a9998301-2337-4a7b-8f47-d6c6e011d85c"
      },
      "execution_count": null,
      "outputs": [
        {
          "output_type": "stream",
          "name": "stdout",
          "text": [
            "enter a sentence: virat 18\n",
            "letters  5 digits   2\n"
          ]
        }
      ]
    },
    {
      "cell_type": "code",
      "source": [
        "# input a string  and find out no of letters and digits\n",
        "letter_count=0\n",
        "digit_count=0\n",
        "\n",
        "\n",
        "sentence=input(\"enter a sentence:\")\n",
        "for char in sentence:\n",
        "    if char.isalpha():\n",
        "      letter_count +=1   # addition assignment operator\n",
        "    elif char.isdigit():\n",
        "       digit_count +=1   # addition assignment operator\n",
        "print(f\"letters  {letter_count} digits  {digit_count}\")"
      ],
      "metadata": {
        "colab": {
          "base_uri": "https://localhost:8080/"
        },
        "id": "p_RMjLvEEnPz",
        "outputId": "ad57370d-a1c1-4852-fffb-611fd287f0fa"
      },
      "execution_count": null,
      "outputs": [
        {
          "output_type": "stream",
          "name": "stdout",
          "text": [
            "enter a sentence:dfgh890\n",
            "letters  4 digits  3\n"
          ]
        }
      ]
    },
    {
      "cell_type": "code",
      "source": [
        "# find no of vowel  ina given string\n",
        "string=input(\"enter a string\")\n",
        "vowel=0\n",
        "for i in string:\n",
        "  if( i=='a' or i=='e' or i=='o' or i=='u' or i=='A' or i=='E' or i=='I' or i=='O' or i=='U'):\n",
        "    vowel=vowel+1\n",
        "print(\"number of vowels are :\", vowel)                    #lab question\n"
      ],
      "metadata": {
        "colab": {
          "base_uri": "https://localhost:8080/"
        },
        "id": "AlGPp8r2fMyJ",
        "outputId": "7337753e-53c1-4401-8579-2a3f8832c9e4"
      },
      "execution_count": null,
      "outputs": [
        {
          "output_type": "stream",
          "name": "stdout",
          "text": [
            "enter a stringapple\n",
            "number of vowels are : 2\n"
          ]
        }
      ]
    },
    {
      "cell_type": "code",
      "source": [],
      "metadata": {
        "id": "vcQpG_ZNPYLp"
      },
      "execution_count": null,
      "outputs": []
    },
    {
      "cell_type": "markdown",
      "source": [
        "**assignment4**\n",
        "\n"
      ],
      "metadata": {
        "id": "nRexvfwJPfas"
      }
    },
    {
      "cell_type": "code",
      "source": [
        "# wap to check a givven number is a perfect square or not\n",
        "import math\n",
        "n=int(input(\"enter a number:\"))\n",
        "n2=int(math.sqrt(n))\n",
        "if (n==n2**2):\n",
        "        print(n,\"is a perfect square number\")\n",
        "else:\n",
        "        print(n,\" is not a perfect square number\")"
      ],
      "metadata": {
        "colab": {
          "base_uri": "https://localhost:8080/"
        },
        "id": "1y1cthBuPjZz",
        "outputId": "06e5e514-9d87-4522-d1b0-3c85be95fd61"
      },
      "execution_count": null,
      "outputs": [
        {
          "output_type": "stream",
          "name": "stdout",
          "text": [
            "enter a number:25\n",
            "25 is a perfect square number\n"
          ]
        }
      ]
    },
    {
      "cell_type": "code",
      "source": [
        "#wap to find no of consonant in a string\n",
        "str=input(\" enter a sentence:\")\n",
        "count=0\n",
        "consonant=\"bcdfghjklmnpqrstvwxyzBCDFGHJKLMNPQRSTVWXYZ\"\n",
        "for char in str:\n",
        "    if (char in consonant):\n",
        "        count+=1\n",
        "print(\" no of consonant in string is:\",count )"
      ],
      "metadata": {
        "colab": {
          "base_uri": "https://localhost:8080/"
        },
        "id": "JI7rq0zyPkCq",
        "outputId": "6de35a73-b230-43ed-8e68-da0902640442"
      },
      "execution_count": null,
      "outputs": [
        {
          "output_type": "stream",
          "name": "stdout",
          "text": [
            " enter a sentence:jhjghb\n",
            " no of consonant in string is: 6\n"
          ]
        }
      ]
    },
    {
      "cell_type": "code",
      "source": [
        "# wap to check whether a user input string is palindrome or not\n",
        "str1=input(\"enter a string:\")\n",
        "len=len(str1)\n",
        "str2=str1[len::-1]   # range function is used to  get the reverse of the string\n",
        "if(str1==str2):\n",
        "    print(str1,\": the string is a palindrome\")\n",
        "else:\n",
        "  print(str1,\": the string is not a palindrome\")"
      ],
      "metadata": {
        "id": "GYfj_dSVi3T4"
      },
      "execution_count": null,
      "outputs": []
    },
    {
      "cell_type": "code",
      "source": [
        "# convert a string into lower case and upper case\n",
        "str=input(\"Enter a string:\")\n",
        "str1=str2=\"\"\n",
        "for char in str:\n",
        "    if ('a'<=char<='z'):\n",
        "        str1=str1+chr(ord(char)-32)\n",
        "    else:\n",
        "        str1=str1+char\n",
        "for char in str:\n",
        "    if ('A'<=char<='Z'):\n",
        "        str2=str2+chr(ord(char)+32)\n",
        "    else:\n",
        "        str2=str2+char\n",
        "print(f\"The string in Uppercase is: {str1}\")\n",
        "print(f\"The string in Lowercase is: {str2}\")"
      ],
      "metadata": {
        "colab": {
          "base_uri": "https://localhost:8080/"
        },
        "id": "NY5GScHkcjKe",
        "outputId": "845c040d-4e75-412f-cd59-3abfcde9f3a9"
      },
      "execution_count": null,
      "outputs": [
        {
          "output_type": "stream",
          "name": "stdout",
          "text": [
            "Enter a string:ghutv\n",
            "The string in Uppercase is: GHUTV\n",
            "The string in Lowercase is: ghutv\n"
          ]
        }
      ]
    },
    {
      "cell_type": "code",
      "source": [
        "# find the perfect  square no's with in a range\n",
        "start=int(input(\"Enter the starting Number:\"))\n",
        "end=int(input(\"Enter the Ending Number: \"))\n",
        "for i in range(start,end+1):                   #lab question\n",
        " print(f\"Square of {i} is:{i**2}\")\n",
        "\n",
        "\n"
      ],
      "metadata": {
        "id": "u3Tjz-WajNIx",
        "colab": {
          "base_uri": "https://localhost:8080/"
        },
        "outputId": "96c6721e-4187-43f5-8d2e-58aa1462d1db"
      },
      "execution_count": null,
      "outputs": [
        {
          "output_type": "stream",
          "name": "stdout",
          "text": [
            "Enter the starting Number:4\n",
            "Enter the Ending Number: 8\n",
            "Square of 4 is:16\n",
            "Square of 5 is:25\n",
            "Square of 6 is:36\n",
            "Square of 7 is:49\n",
            "Square of 8 is:64\n"
          ]
        }
      ]
    },
    {
      "cell_type": "code",
      "source": [],
      "metadata": {
        "id": "ifiKKjygbEdJ"
      },
      "execution_count": null,
      "outputs": []
    },
    {
      "cell_type": "markdown",
      "source": [
        "* **assignment5**"
      ],
      "metadata": {
        "id": "NTu3GYuBbDVn"
      }
    },
    {
      "cell_type": "code",
      "source": [
        "# wap to check user input number is in a list or not\n",
        "lst=eval(input(\"enter a list\"))\n",
        "num=int(input(\"enter a number\"))\n",
        "if num in lst:                        # use of in function5\n",
        "    print(\"number is present in list\",num)\n",
        "else:\n",
        "    print(\"number is not present in the list\",num)"
      ],
      "metadata": {
        "colab": {
          "base_uri": "https://localhost:8080/"
        },
        "id": "34sACAO3aMiW",
        "outputId": "942117c7-4a2b-46f9-993a-95a8a860f4b7"
      },
      "execution_count": null,
      "outputs": [
        {
          "output_type": "stream",
          "name": "stdout",
          "text": [
            "enter a list[1  , 3 , 5]\n",
            "enter a number6\n",
            "number is not present in the list 6\n"
          ]
        }
      ]
    },
    {
      "cell_type": "code",
      "source": [
        "# find if a substring is present in a string or not (dont use in function)\n",
        "str=input(\"enter a string:\")\n",
        "sub_str=input(\"enter a sub string:\")\n",
        "index=str.find(sub_str)\n",
        "if(index!=-1):\n",
        "    print(\" substring exists in the string\")\n",
        "else:\n",
        "    print(\" substring is not present in the string\")"
      ],
      "metadata": {
        "colab": {
          "base_uri": "https://localhost:8080/"
        },
        "id": "vvzR2hjXaOE9",
        "outputId": "1598ca14-62b2-4fa3-c0dc-91c99339e4e6"
      },
      "execution_count": null,
      "outputs": [
        {
          "output_type": "stream",
          "name": "stdout",
          "text": [
            "enter a string:bottle\n",
            "enter a sub string:le\n",
            " substring exists in the string\n"
          ]
        }
      ]
    },
    {
      "cell_type": "code",
      "source": [
        "# take  a list and print the list after removing duplicate\n",
        "input_list=eval(input(\"enter a list:\"))\n",
        "output_list=[]\n",
        "dupli=[]\n",
        "for i in input_list:\n",
        "    if i not in dupli:\n",
        "        output_list.append(i)\n",
        "        dupli.append(i)\n",
        "print(\"the out put list is\",output_list)"
      ],
      "metadata": {
        "colab": {
          "base_uri": "https://localhost:8080/"
        },
        "id": "KZ-99OTvaORF",
        "outputId": "cf6d7de7-b52c-4910-96a8-1006f78ed30a"
      },
      "execution_count": null,
      "outputs": [
        {
          "output_type": "stream",
          "name": "stdout",
          "text": [
            "enter a list:[1,2,3,4,5,5,6,6]\n",
            "the out put list is [1, 2, 3, 4, 5, 6]\n"
          ]
        }
      ]
    },
    {
      "cell_type": "markdown",
      "source": [],
      "metadata": {
        "id": "k0EJQOIVqpqR"
      }
    },
    {
      "cell_type": "code",
      "source": [
        "# given a list A and number n ,find the nth largest  number\n",
        "mylist=eval(input(\"enter a list\"))\n",
        "n=int(input(\" enter the value of n\"))\n",
        "if n<=0 or n>len(mylist):\n",
        "    print(\" please  enter valid number\")\n",
        "else:\n",
        "    mylist.sort(reverse=True)\n",
        "    nth_large=mylist[n-1]\n",
        "print(f\"the {n}th is the largest number is :\", nth_large )"
      ],
      "metadata": {
        "colab": {
          "base_uri": "https://localhost:8080/"
        },
        "id": "zBSDQA02aOaG",
        "outputId": "9ee3acdc-11af-43df-ac2a-5a32e79b996f"
      },
      "execution_count": null,
      "outputs": [
        {
          "output_type": "stream",
          "name": "stdout",
          "text": [
            "enter a list[1,2,99,6,7]\n",
            " enter the value of n2\n",
            "the 2th is the largest number is : 7\n"
          ]
        }
      ]
    },
    {
      "cell_type": "markdown",
      "source": [
        "**assignment 6**\n"
      ],
      "metadata": {
        "id": "MRZ-KGmTq1YP"
      }
    },
    {
      "cell_type": "code",
      "source": [
        "#Count Heads and legs\n",
        "heads=int(input(\" enter total no of heads:\"))\n",
        "legs=int(input(\"enter total no of legs:\"))\n",
        "for x in range (0,heads+1):\n",
        "  for y in range(0,legs+1):\n",
        "    if (x+y==heads):\n",
        "      if(2*x+4*y==legs):\n",
        "        print(f\"the number of rabbits are:{y} \\n the no of chickens are:{x}\")\n",
        "\n",
        "\n"
      ],
      "metadata": {
        "colab": {
          "base_uri": "https://localhost:8080/"
        },
        "id": "fX68X5eMqxRo",
        "outputId": "1d87e20b-c4b8-42bf-e4d5-53d89f19a9fa"
      },
      "execution_count": null,
      "outputs": [
        {
          "output_type": "stream",
          "name": "stdout",
          "text": [
            " enter total no of heads:35\n",
            "enter total no of legs:94\n",
            "the number of rabbits are:12 \n",
            " the no of chickens are:23\n"
          ]
        }
      ]
    },
    {
      "cell_type": "code",
      "source": [
        "# take two list of numbers and generate  a list of tuples that are  combo of the  such that two numbers  in the pair  are not equal\n",
        "list1=eval(input(\"enter a list\"))\n",
        "list2=eval(input(\"enter another list list\"))\n",
        "list3=[(i,j) for i in list1 for j in list2 if i!=j]\n",
        "print(\" the combo tupple i s :\",list3)"
      ],
      "metadata": {
        "colab": {
          "base_uri": "https://localhost:8080/"
        },
        "id": "h196hbYWq8G7",
        "outputId": "a33f3739-92f8-467b-ab34-64364536a8a5"
      },
      "execution_count": null,
      "outputs": [
        {
          "output_type": "stream",
          "name": "stdout",
          "text": [
            "enter a list[1,2,3]\n",
            "enter another list list[3,4,5]\n",
            " the combo tupple i s : [(1, 3), (1, 4), (1, 5), (2, 3), (2, 4), (2, 5), (3, 4), (3, 5)]\n"
          ]
        }
      ]
    },
    {
      "cell_type": "code",
      "source": [
        "# take a sentence and output the frequency of words  in the sentence\n",
        "str1=input(\" enter your sentence:\")\n",
        "words=str1.split()\n",
        "wfreq=[words.count(w) for w in words ]\n",
        "print( \" frequency of words is:\",dict(zip(words,wfreq)))"
      ],
      "metadata": {
        "colab": {
          "base_uri": "https://localhost:8080/"
        },
        "id": "riwpg3G4sA8C",
        "outputId": "8044261d-da09-4b29-f35e-32d79b213fb8"
      },
      "execution_count": null,
      "outputs": [
        {
          "output_type": "stream",
          "name": "stdout",
          "text": [
            " enter your sentence: dog and cat are pet pet animals\n",
            " frequency of words is: {'dog': 1, 'and': 1, 'cat': 1, 'are': 1, 'pet': 2, 'animals': 1}\n"
          ]
        }
      ]
    },
    {
      "cell_type": "markdown",
      "source": [],
      "metadata": {
        "id": "4KSoWRxMwS3m"
      }
    },
    {
      "cell_type": "markdown",
      "source": [
        "**assignment7**"
      ],
      "metadata": {
        "id": "LtkQ1m--i_wc"
      }
    },
    {
      "cell_type": "code",
      "source": [
        "# given a list  of products,print ot the name of all the products witha price higher than 10  hint:use dictionary\n",
        "products=[{'name':'orange','price':20},{'name':'apple','price':8},{'name':'banana','price':10},{'name':'kiwi','price':30}]\n",
        "for f  in products:\n",
        "   if f['price']>10:\n",
        "      print(\" price above than 10 proproducts\",f)"
      ],
      "metadata": {
        "colab": {
          "base_uri": "https://localhost:8080/"
        },
        "id": "HL4o97hsi-ZT",
        "outputId": "8862d339-bcf2-4db1-a4ca-632203659fe8"
      },
      "execution_count": null,
      "outputs": [
        {
          "output_type": "stream",
          "name": "stdout",
          "text": [
            " price above than 10 proproducts {'name': 'orange', 'price': 20}\n",
            " price above than 10 proproducts {'name': 'kiwi', 'price': 30}\n"
          ]
        }
      ]
    },
    {
      "cell_type": "code",
      "source": [
        "#take two list of numbers of products quantities and prices and calculate total use list and aggregation input\n",
        "product_quantities=[13,5,6,10,11]\n",
        "prices=[1.2,6.5,1.0,4.8,5.0]\n",
        "total_cost=sum(qty*price for qty,price in zip(product_quantities,prices))\n",
        "print(\"total cost is\",total_cost)"
      ],
      "metadata": {
        "colab": {
          "base_uri": "https://localhost:8080/"
        },
        "id": "4fur87Ggi-1n",
        "outputId": "d0447226-637d-4118-fff0-c78f13227a05"
      },
      "execution_count": null,
      "outputs": [
        {
          "output_type": "stream",
          "name": "stdout",
          "text": [
            "total cost is 157.1\n"
          ]
        }
      ]
    },
    {
      "cell_type": "code",
      "source": [
        "#take two list of numbers of products quantities and prices and calculate total use list and aggregation input\n",
        "product_quantities=eval(input(\"enter a list:\"))\n",
        "prices=eval(input(\"enter another list:\"))\n",
        "total_cost=sum(qty*price for qty,price in zip(product_quantities,prices))\n",
        "print(\"total cost is\",total_cost)\n"
      ],
      "metadata": {
        "id": "HAd5KYaPi_DX"
      },
      "execution_count": null,
      "outputs": []
    },
    {
      "cell_type": "code",
      "source": [
        "#given a list of tickets for canditates  find out who is the winner\n",
        "vote=eval(input(\"enter your list\"))\n",
        "vote_count={}\n",
        "for candidate in vote:\n",
        "    if candidate in vote_count:\n",
        "        vote_count[candidate]+=1\n",
        "    else:\n",
        "        vote_count[candidate]=1\n",
        "winner=max(vote_count,key=vote_count.get)\n",
        "print(\" thw winner is :\",winner)"
      ],
      "metadata": {
        "id": "fdOMp16NrgRl",
        "colab": {
          "base_uri": "https://localhost:8080/"
        },
        "outputId": "c7bd9bfd-dd18-40a5-cc0f-56d3e5b6bc70"
      },
      "execution_count": null,
      "outputs": [
        {
          "output_type": "stream",
          "name": "stdout",
          "text": [
            "enter your list[\"a\",\"b\",\"c\",\"a\"]\n",
            " thw winner is : a\n"
          ]
        }
      ]
    },
    {
      "cell_type": "markdown",
      "source": [
        "**assignment 8**"
      ],
      "metadata": {
        "id": "9oug3pAzNXyH"
      }
    },
    {
      "cell_type": "code",
      "source": [
        "# take an input character and  generate matrix find row index and column index  if the character is present\n",
        "#check whether the character is present in the  table\n",
        "table=[list(\"abcd\"),list(\"efgh\"),list(\"ijkl\")]\n",
        "print(\"the table is:\\n \",table)\n",
        "target=input(\"enter target character: \")\n",
        "flag=0\n",
        "for rowindex in range(0,len(table)):\n",
        "    for columnindex in range(0,len(table[rowindex])):\n",
        "        if (table[rowindex][columnindex]==target):\n",
        "            print(\"Row index  is:\",(rowindex+1),\"Column  index is:\",(columnindex+1))\n",
        "            flag=1\n",
        "if flag==0:\n",
        "    print(\"Target character not found\")"
      ],
      "metadata": {
        "colab": {
          "base_uri": "https://localhost:8080/"
        },
        "id": "wVg7v4tHNWpF",
        "outputId": "31efbdff-d0b1-444e-a4c0-f04bf8e0db71"
      },
      "execution_count": null,
      "outputs": [
        {
          "output_type": "stream",
          "name": "stdout",
          "text": [
            "the table is:\n",
            "  [['a', 'b', 'c', 'd'], ['e', 'f', 'g', 'h'], ['i', 'j', 'k', 'l']]\n",
            "enter target character: e\n",
            "Row index  is: 2 Column  index is: 1\n"
          ]
        }
      ]
    },
    {
      "cell_type": "code",
      "source": [
        "# list of items with their weights and values\n",
        "items=[(60,10),(100,20),(120,30)]\n",
        "capacity=50\n",
        "total_value=0\n",
        "for value,weight in items:\n",
        "  if capacity ==0:\n",
        "     break\n",
        "  amount=min(weight,capacity)\n",
        "  total_value+=amount*(value/weight)\n",
        "  capacity -=amount\n",
        "max_value=total_value\n",
        "print(\"max value is\",max_value)\n"
      ],
      "metadata": {
        "colab": {
          "base_uri": "https://localhost:8080/"
        },
        "id": "Bgv0NBXDdN0-",
        "outputId": "84a1761d-24bf-4338-f1ba-1a59e73cbc34"
      },
      "execution_count": null,
      "outputs": [
        {
          "output_type": "stream",
          "name": "stdout",
          "text": [
            "max value is 240.0\n"
          ]
        }
      ]
    },
    {
      "cell_type": "code",
      "source": [
        "#  take a sentence and output a dictionary with words as the key and number of characters in the word as value\n",
        "sentence=(input(\"enter a sentence\"))\n",
        "words=sentence.split()\n",
        "word_length_dict={}\n",
        "for word in words:\n",
        "    word_length_dict[word]=len(word)\n",
        "print(word_length_dict)"
      ],
      "metadata": {
        "colab": {
          "base_uri": "https://localhost:8080/"
        },
        "id": "nYTWrYwdNT74",
        "outputId": "c351e1fc-906a-4579-e68a-b8496d362968"
      },
      "execution_count": null,
      "outputs": [
        {
          "output_type": "stream",
          "name": "stdout",
          "text": [
            "enter a sentencejay shree ram\n",
            "{'jay': 3, 'shree': 5, 'ram': 3}\n"
          ]
        }
      ]
    },
    {
      "cell_type": "markdown",
      "source": [
        "**assignement 9**"
      ],
      "metadata": {
        "id": "9NkRPEjBT4iC"
      }
    },
    {
      "cell_type": "code",
      "source": [
        "# create an add function that is agnostic to number of inputs\n",
        "def My_custom_Add(*numbers):\n",
        "    sum=0\n",
        "    for num in numbers:\n",
        "        sum=sum+num\n",
        "    return sum\n",
        "num=input(\"Enter the numbers you want to add:\")\n",
        "num1=[]\n",
        "for i in num.split():\n",
        "    num2=float(i)\n",
        "    num1.append(num2)\n",
        "result=My_custom_Add(*num1)\n",
        "print(f\"The sum of numbers is:{result}\")"
      ],
      "metadata": {
        "colab": {
          "base_uri": "https://localhost:8080/"
        },
        "id": "mcKCkSCpT6GA",
        "outputId": "1bbdf6ff-d365-4e95-8b47-6793b4e3dc54"
      },
      "execution_count": null,
      "outputs": [
        {
          "output_type": "stream",
          "name": "stdout",
          "text": [
            "Enter the numbers you want to add:1 2 3 4  5 6 7\n",
            "The sum of numbers is:28.0\n"
          ]
        }
      ]
    },
    {
      "cell_type": "code",
      "source": [
        "# run a program  to demonstrate fibonacci through recursion\n",
        "def fibo_rec(n):\n",
        "    if n<=0:\n",
        "      return 0\n",
        "    elif n==1:\n",
        "       return 1\n",
        "    else:\n",
        "       return fibo_rec(n-1)+fibo_rec(n-2)\n",
        "n=int(input(\" enter the numbers:\"))\n",
        "for i in range(n):\n",
        "   print(\" fibonacci series is\",fibo_rec(i))"
      ],
      "metadata": {
        "colab": {
          "base_uri": "https://localhost:8080/"
        },
        "id": "TsGmYtZtT3Jx",
        "outputId": "5c109729-4046-44d6-84b8-746fce35098a"
      },
      "execution_count": null,
      "outputs": [
        {
          "output_type": "stream",
          "name": "stdout",
          "text": [
            " enter the numbers:4\n",
            " fibonacci series is 0\n",
            " fibonacci series is 1\n",
            " fibonacci series is 1\n",
            " fibonacci series is 2\n"
          ]
        }
      ]
    },
    {
      "cell_type": "code",
      "source": [
        "# wap to implement binary search using recursion\n",
        "def binaray_search(a,check,lower,upper):\n",
        "    if lower<=upper:\n",
        "        mid=(lower+upper)//2\n",
        "        if a[mid]==check:\n",
        "            return mid\n",
        "        elif a[mid]<check:\n",
        "            return binaray_search(a,check,mid+1,upper)\n",
        "        else:\n",
        "            return binaray_search(a,check,lower,mid-1)\n",
        "    else:\n",
        "        return -1\n",
        "list=eval(input(\"Enter a set of numbers:\"))\n",
        "list2=sorted(list)      #list.sort() will sort the original list,while we have to store the list  in sorted\n",
        "print(\"The sorted list is:\")\n",
        "print(list2)\n",
        "check=int(input(\"Enter the element you want to search:\"))\n",
        "found=binaray_search(list2,check,0,len(list2))\n",
        "if found==-1:\n",
        "    print(\"Element is not present in the list\")\n",
        "else:\n",
        "    print(f\"{check} is present at index number:{found}\")"
      ],
      "metadata": {
        "colab": {
          "base_uri": "https://localhost:8080/"
        },
        "id": "GzEPugYMb6yE",
        "outputId": "e8cc963a-66bc-4c35-a76a-1cda93e57a5c"
      },
      "execution_count": null,
      "outputs": [
        {
          "output_type": "stream",
          "name": "stdout",
          "text": [
            "Enter a set of numbers:[1,2,3,4,5,6]\n",
            "The sorted list is:\n",
            "[1, 2, 3, 4, 5, 6]\n",
            "Enter the element you want to search:5\n",
            "5 is present at index number:4\n"
          ]
        }
      ]
    },
    {
      "cell_type": "markdown",
      "source": [
        "**assignment 10**\n"
      ],
      "metadata": {
        "id": "HRUMov34J5o0"
      }
    },
    {
      "cell_type": "code",
      "source": [
        "# given attributes(x,y,r) for two circles identify if the circles \"intersect\",\"touch\" or \"not intersect\"\n",
        "import math\n",
        "circle_relationship= (lambda x1,y1,r1,x2,y2,r2:\"intersect\" if((x1-x2)**2+(y1-y2)**2)**0.5<=r1+r2 else \"touch\" if((x1-x2)**2+(y1-y2)**2)**0.5==r1+r2 else \"do not intersect\")\n",
        "x1,y1,r1=map(float,input(\"enterattributes(x y r ) for the first circle\").split())\n",
        "x2,y2,r2=map(float,input(\"enterattributes(x y r ) for the second circle\").split())\n",
        "result=circle_relationship(x1,y1,r1,x2,y2,r2)\n",
        "print(\"The circles\", result  +\".\")"
      ],
      "metadata": {
        "colab": {
          "base_uri": "https://localhost:8080/"
        },
        "id": "LMaHuzSpJ_A1",
        "outputId": "402c7785-ca26-4a69-ffc4-c078ffe51afd"
      },
      "execution_count": null,
      "outputs": [
        {
          "output_type": "stream",
          "name": "stdout",
          "text": [
            "enterattributes(x y r ) for the first circle0 0 3\n",
            "enterattributes(x y r ) for the second circle5 0 2\n",
            "The circles intersect.\n"
          ]
        }
      ]
    },
    {
      "cell_type": "code",
      "source": [
        "# take a string as input and do the following without using string functions\n",
        "#i. remove duplicates\n",
        "#ii.remove special characters\n",
        "#iii.change the case of character\n",
        "remove_duplicates = lambda input_str: ''.join([char for i, char in enumerate(input_str) if char not in input_str[:i]])\n",
        "remove_special_characters = lambda input_str: ''.join([char for char in input_str if char.isalnum() or char.isspace()])\n",
        "change_case = lambda input_str: ''.join([char.upper() if char.islower() else char.lower() if char.isupper() else char for char in input_str])\n",
        "input_string = input(\"Enter a string: \")\n",
        "input_string = remove_duplicates(input_string)           # Remove duplicates\n",
        "input_string = remove_special_characters(input_string)   # Remove special characters\n",
        "input_string = change_case(input_string)                # Change case\n",
        "print(\"Modified string:\", input_string)"
      ],
      "metadata": {
        "colab": {
          "base_uri": "https://localhost:8080/"
        },
        "id": "5tl0d4uFKAg6",
        "outputId": "64ed90c7-e7a4-448a-c12d-8d72ec6dd9db"
      },
      "execution_count": null,
      "outputs": [
        {
          "output_type": "stream",
          "name": "stdout",
          "text": [
            "Enter a string:  he is a $%^& boYY\n",
            "Modified string:  HEISABOy\n"
          ]
        }
      ]
    },
    {
      "cell_type": "code",
      "source": [
        "#take a 2x2 square matrix as input and calculate the determinant\n",
        "det=( lambda matrix: matrix[0][0]*matrix[1][1] - matrix[0][1]*matrix[1][0])\n",
        "matrix = [[1, 2], [3, 4]]\n",
        "determinant = det(matrix)\n",
        "print(  \"the value of the determinant is :\",determinant)"
      ],
      "metadata": {
        "colab": {
          "base_uri": "https://localhost:8080/"
        },
        "id": "qmt6IkFuJ5RE",
        "outputId": "98761ef6-950a-4ba2-9ff9-ffd5dbb16278"
      },
      "execution_count": null,
      "outputs": [
        {
          "output_type": "stream",
          "name": "stdout",
          "text": [
            "the value of the determinant is : -2\n"
          ]
        }
      ]
    },
    {
      "cell_type": "markdown",
      "source": [
        "**assignment11**\n",
        ":use of list comprehension\n"
      ],
      "metadata": {
        "id": "LsXiqIeljLFV"
      }
    },
    {
      "cell_type": "code",
      "source": [
        "# find the numbers  from 1-1000 that  have a 6 in them\n",
        "num_with_six=[num for num in range(1,1001) if '6' in str(num)]\n",
        "print(\"result is \")\n",
        "print(\",\".join(map(str,num_with_six)))"
      ],
      "metadata": {
        "colab": {
          "base_uri": "https://localhost:8080/"
        },
        "id": "0SgP_pV1jNak",
        "outputId": "b37985a7-d9a5-486f-bc0e-b6aac127aed3"
      },
      "execution_count": null,
      "outputs": [
        {
          "output_type": "stream",
          "name": "stdout",
          "text": [
            "result is \n",
            "6,16,26,36,46,56,60,61,62,63,64,65,66,67,68,69,76,86,96,106,116,126,136,146,156,160,161,162,163,164,165,166,167,168,169,176,186,196,206,216,226,236,246,256,260,261,262,263,264,265,266,267,268,269,276,286,296,306,316,326,336,346,356,360,361,362,363,364,365,366,367,368,369,376,386,396,406,416,426,436,446,456,460,461,462,463,464,465,466,467,468,469,476,486,496,506,516,526,536,546,556,560,561,562,563,564,565,566,567,568,569,576,586,596,600,601,602,603,604,605,606,607,608,609,610,611,612,613,614,615,616,617,618,619,620,621,622,623,624,625,626,627,628,629,630,631,632,633,634,635,636,637,638,639,640,641,642,643,644,645,646,647,648,649,650,651,652,653,654,655,656,657,658,659,660,661,662,663,664,665,666,667,668,669,670,671,672,673,674,675,676,677,678,679,680,681,682,683,684,685,686,687,688,689,690,691,692,693,694,695,696,697,698,699,706,716,726,736,746,756,760,761,762,763,764,765,766,767,768,769,776,786,796,806,816,826,836,846,856,860,861,862,863,864,865,866,867,868,869,876,886,896,906,916,926,936,946,956,960,961,962,963,964,965,966,967,968,969,976,986,996\n"
          ]
        }
      ]
    },
    {
      "cell_type": "code",
      "source": [
        "# find all the numbers from 1-1000 that are divisble by any single digit besides 1(2-9)\n",
        "num_div=[ num for num in range(1,1001) if[j for j in range(2,10) if num%j==0 ] ]\n",
        "print(\"result is\",num_div)\n"
      ],
      "metadata": {
        "id": "7GVbW9m9-che"
      },
      "execution_count": null,
      "outputs": []
    },
    {
      "cell_type": "code",
      "source": [
        "#program to find higest single digit any of no.s id divisible by\n",
        "quantity=[i for i in range(1,1001)]\n",
        "numbers={i:max([j for j in range(1,10) if i%j == 0]) for i in quantity}\n",
        "print(numbers)"
      ],
      "metadata": {
        "colab": {
          "base_uri": "https://localhost:8080/"
        },
        "id": "vR0by5Ndqnyv",
        "outputId": "3f637d47-d16a-41c5-bc46-7c9bb29cc5ab"
      },
      "execution_count": null,
      "outputs": [
        {
          "output_type": "stream",
          "name": "stdout",
          "text": [
            "{1: 1, 2: 2, 3: 3, 4: 4, 5: 5, 6: 6, 7: 7, 8: 8, 9: 9, 10: 5, 11: 1, 12: 6, 13: 1, 14: 7, 15: 5, 16: 8, 17: 1, 18: 9, 19: 1, 20: 5, 21: 7, 22: 2, 23: 1, 24: 8, 25: 5, 26: 2, 27: 9, 28: 7, 29: 1, 30: 6, 31: 1, 32: 8, 33: 3, 34: 2, 35: 7, 36: 9, 37: 1, 38: 2, 39: 3, 40: 8, 41: 1, 42: 7, 43: 1, 44: 4, 45: 9, 46: 2, 47: 1, 48: 8, 49: 7, 50: 5, 51: 3, 52: 4, 53: 1, 54: 9, 55: 5, 56: 8, 57: 3, 58: 2, 59: 1, 60: 6, 61: 1, 62: 2, 63: 9, 64: 8, 65: 5, 66: 6, 67: 1, 68: 4, 69: 3, 70: 7, 71: 1, 72: 9, 73: 1, 74: 2, 75: 5, 76: 4, 77: 7, 78: 6, 79: 1, 80: 8, 81: 9, 82: 2, 83: 1, 84: 7, 85: 5, 86: 2, 87: 3, 88: 8, 89: 1, 90: 9, 91: 7, 92: 4, 93: 3, 94: 2, 95: 5, 96: 8, 97: 1, 98: 7, 99: 9, 100: 5, 101: 1, 102: 6, 103: 1, 104: 8, 105: 7, 106: 2, 107: 1, 108: 9, 109: 1, 110: 5, 111: 3, 112: 8, 113: 1, 114: 6, 115: 5, 116: 4, 117: 9, 118: 2, 119: 7, 120: 8, 121: 1, 122: 2, 123: 3, 124: 4, 125: 5, 126: 9, 127: 1, 128: 8, 129: 3, 130: 5, 131: 1, 132: 6, 133: 7, 134: 2, 135: 9, 136: 8, 137: 1, 138: 6, 139: 1, 140: 7, 141: 3, 142: 2, 143: 1, 144: 9, 145: 5, 146: 2, 147: 7, 148: 4, 149: 1, 150: 6, 151: 1, 152: 8, 153: 9, 154: 7, 155: 5, 156: 6, 157: 1, 158: 2, 159: 3, 160: 8, 161: 7, 162: 9, 163: 1, 164: 4, 165: 5, 166: 2, 167: 1, 168: 8, 169: 1, 170: 5, 171: 9, 172: 4, 173: 1, 174: 6, 175: 7, 176: 8, 177: 3, 178: 2, 179: 1, 180: 9, 181: 1, 182: 7, 183: 3, 184: 8, 185: 5, 186: 6, 187: 1, 188: 4, 189: 9, 190: 5, 191: 1, 192: 8, 193: 1, 194: 2, 195: 5, 196: 7, 197: 1, 198: 9, 199: 1, 200: 8, 201: 3, 202: 2, 203: 7, 204: 6, 205: 5, 206: 2, 207: 9, 208: 8, 209: 1, 210: 7, 211: 1, 212: 4, 213: 3, 214: 2, 215: 5, 216: 9, 217: 7, 218: 2, 219: 3, 220: 5, 221: 1, 222: 6, 223: 1, 224: 8, 225: 9, 226: 2, 227: 1, 228: 6, 229: 1, 230: 5, 231: 7, 232: 8, 233: 1, 234: 9, 235: 5, 236: 4, 237: 3, 238: 7, 239: 1, 240: 8, 241: 1, 242: 2, 243: 9, 244: 4, 245: 7, 246: 6, 247: 1, 248: 8, 249: 3, 250: 5, 251: 1, 252: 9, 253: 1, 254: 2, 255: 5, 256: 8, 257: 1, 258: 6, 259: 7, 260: 5, 261: 9, 262: 2, 263: 1, 264: 8, 265: 5, 266: 7, 267: 3, 268: 4, 269: 1, 270: 9, 271: 1, 272: 8, 273: 7, 274: 2, 275: 5, 276: 6, 277: 1, 278: 2, 279: 9, 280: 8, 281: 1, 282: 6, 283: 1, 284: 4, 285: 5, 286: 2, 287: 7, 288: 9, 289: 1, 290: 5, 291: 3, 292: 4, 293: 1, 294: 7, 295: 5, 296: 8, 297: 9, 298: 2, 299: 1, 300: 6, 301: 7, 302: 2, 303: 3, 304: 8, 305: 5, 306: 9, 307: 1, 308: 7, 309: 3, 310: 5, 311: 1, 312: 8, 313: 1, 314: 2, 315: 9, 316: 4, 317: 1, 318: 6, 319: 1, 320: 8, 321: 3, 322: 7, 323: 1, 324: 9, 325: 5, 326: 2, 327: 3, 328: 8, 329: 7, 330: 6, 331: 1, 332: 4, 333: 9, 334: 2, 335: 5, 336: 8, 337: 1, 338: 2, 339: 3, 340: 5, 341: 1, 342: 9, 343: 7, 344: 8, 345: 5, 346: 2, 347: 1, 348: 6, 349: 1, 350: 7, 351: 9, 352: 8, 353: 1, 354: 6, 355: 5, 356: 4, 357: 7, 358: 2, 359: 1, 360: 9, 361: 1, 362: 2, 363: 3, 364: 7, 365: 5, 366: 6, 367: 1, 368: 8, 369: 9, 370: 5, 371: 7, 372: 6, 373: 1, 374: 2, 375: 5, 376: 8, 377: 1, 378: 9, 379: 1, 380: 5, 381: 3, 382: 2, 383: 1, 384: 8, 385: 7, 386: 2, 387: 9, 388: 4, 389: 1, 390: 6, 391: 1, 392: 8, 393: 3, 394: 2, 395: 5, 396: 9, 397: 1, 398: 2, 399: 7, 400: 8, 401: 1, 402: 6, 403: 1, 404: 4, 405: 9, 406: 7, 407: 1, 408: 8, 409: 1, 410: 5, 411: 3, 412: 4, 413: 7, 414: 9, 415: 5, 416: 8, 417: 3, 418: 2, 419: 1, 420: 7, 421: 1, 422: 2, 423: 9, 424: 8, 425: 5, 426: 6, 427: 7, 428: 4, 429: 3, 430: 5, 431: 1, 432: 9, 433: 1, 434: 7, 435: 5, 436: 4, 437: 1, 438: 6, 439: 1, 440: 8, 441: 9, 442: 2, 443: 1, 444: 6, 445: 5, 446: 2, 447: 3, 448: 8, 449: 1, 450: 9, 451: 1, 452: 4, 453: 3, 454: 2, 455: 7, 456: 8, 457: 1, 458: 2, 459: 9, 460: 5, 461: 1, 462: 7, 463: 1, 464: 8, 465: 5, 466: 2, 467: 1, 468: 9, 469: 7, 470: 5, 471: 3, 472: 8, 473: 1, 474: 6, 475: 5, 476: 7, 477: 9, 478: 2, 479: 1, 480: 8, 481: 1, 482: 2, 483: 7, 484: 4, 485: 5, 486: 9, 487: 1, 488: 8, 489: 3, 490: 7, 491: 1, 492: 6, 493: 1, 494: 2, 495: 9, 496: 8, 497: 7, 498: 6, 499: 1, 500: 5, 501: 3, 502: 2, 503: 1, 504: 9, 505: 5, 506: 2, 507: 3, 508: 4, 509: 1, 510: 6, 511: 7, 512: 8, 513: 9, 514: 2, 515: 5, 516: 6, 517: 1, 518: 7, 519: 3, 520: 8, 521: 1, 522: 9, 523: 1, 524: 4, 525: 7, 526: 2, 527: 1, 528: 8, 529: 1, 530: 5, 531: 9, 532: 7, 533: 1, 534: 6, 535: 5, 536: 8, 537: 3, 538: 2, 539: 7, 540: 9, 541: 1, 542: 2, 543: 3, 544: 8, 545: 5, 546: 7, 547: 1, 548: 4, 549: 9, 550: 5, 551: 1, 552: 8, 553: 7, 554: 2, 555: 5, 556: 4, 557: 1, 558: 9, 559: 1, 560: 8, 561: 3, 562: 2, 563: 1, 564: 6, 565: 5, 566: 2, 567: 9, 568: 8, 569: 1, 570: 6, 571: 1, 572: 4, 573: 3, 574: 7, 575: 5, 576: 9, 577: 1, 578: 2, 579: 3, 580: 5, 581: 7, 582: 6, 583: 1, 584: 8, 585: 9, 586: 2, 587: 1, 588: 7, 589: 1, 590: 5, 591: 3, 592: 8, 593: 1, 594: 9, 595: 7, 596: 4, 597: 3, 598: 2, 599: 1, 600: 8, 601: 1, 602: 7, 603: 9, 604: 4, 605: 5, 606: 6, 607: 1, 608: 8, 609: 7, 610: 5, 611: 1, 612: 9, 613: 1, 614: 2, 615: 5, 616: 8, 617: 1, 618: 6, 619: 1, 620: 5, 621: 9, 622: 2, 623: 7, 624: 8, 625: 5, 626: 2, 627: 3, 628: 4, 629: 1, 630: 9, 631: 1, 632: 8, 633: 3, 634: 2, 635: 5, 636: 6, 637: 7, 638: 2, 639: 9, 640: 8, 641: 1, 642: 6, 643: 1, 644: 7, 645: 5, 646: 2, 647: 1, 648: 9, 649: 1, 650: 5, 651: 7, 652: 4, 653: 1, 654: 6, 655: 5, 656: 8, 657: 9, 658: 7, 659: 1, 660: 6, 661: 1, 662: 2, 663: 3, 664: 8, 665: 7, 666: 9, 667: 1, 668: 4, 669: 3, 670: 5, 671: 1, 672: 8, 673: 1, 674: 2, 675: 9, 676: 4, 677: 1, 678: 6, 679: 7, 680: 8, 681: 3, 682: 2, 683: 1, 684: 9, 685: 5, 686: 7, 687: 3, 688: 8, 689: 1, 690: 6, 691: 1, 692: 4, 693: 9, 694: 2, 695: 5, 696: 8, 697: 1, 698: 2, 699: 3, 700: 7, 701: 1, 702: 9, 703: 1, 704: 8, 705: 5, 706: 2, 707: 7, 708: 6, 709: 1, 710: 5, 711: 9, 712: 8, 713: 1, 714: 7, 715: 5, 716: 4, 717: 3, 718: 2, 719: 1, 720: 9, 721: 7, 722: 2, 723: 3, 724: 4, 725: 5, 726: 6, 727: 1, 728: 8, 729: 9, 730: 5, 731: 1, 732: 6, 733: 1, 734: 2, 735: 7, 736: 8, 737: 1, 738: 9, 739: 1, 740: 5, 741: 3, 742: 7, 743: 1, 744: 8, 745: 5, 746: 2, 747: 9, 748: 4, 749: 7, 750: 6, 751: 1, 752: 8, 753: 3, 754: 2, 755: 5, 756: 9, 757: 1, 758: 2, 759: 3, 760: 8, 761: 1, 762: 6, 763: 7, 764: 4, 765: 9, 766: 2, 767: 1, 768: 8, 769: 1, 770: 7, 771: 3, 772: 4, 773: 1, 774: 9, 775: 5, 776: 8, 777: 7, 778: 2, 779: 1, 780: 6, 781: 1, 782: 2, 783: 9, 784: 8, 785: 5, 786: 6, 787: 1, 788: 4, 789: 3, 790: 5, 791: 7, 792: 9, 793: 1, 794: 2, 795: 5, 796: 4, 797: 1, 798: 7, 799: 1, 800: 8, 801: 9, 802: 2, 803: 1, 804: 6, 805: 7, 806: 2, 807: 3, 808: 8, 809: 1, 810: 9, 811: 1, 812: 7, 813: 3, 814: 2, 815: 5, 816: 8, 817: 1, 818: 2, 819: 9, 820: 5, 821: 1, 822: 6, 823: 1, 824: 8, 825: 5, 826: 7, 827: 1, 828: 9, 829: 1, 830: 5, 831: 3, 832: 8, 833: 7, 834: 6, 835: 5, 836: 4, 837: 9, 838: 2, 839: 1, 840: 8, 841: 1, 842: 2, 843: 3, 844: 4, 845: 5, 846: 9, 847: 7, 848: 8, 849: 3, 850: 5, 851: 1, 852: 6, 853: 1, 854: 7, 855: 9, 856: 8, 857: 1, 858: 6, 859: 1, 860: 5, 861: 7, 862: 2, 863: 1, 864: 9, 865: 5, 866: 2, 867: 3, 868: 7, 869: 1, 870: 6, 871: 1, 872: 8, 873: 9, 874: 2, 875: 7, 876: 6, 877: 1, 878: 2, 879: 3, 880: 8, 881: 1, 882: 9, 883: 1, 884: 4, 885: 5, 886: 2, 887: 1, 888: 8, 889: 7, 890: 5, 891: 9, 892: 4, 893: 1, 894: 6, 895: 5, 896: 8, 897: 3, 898: 2, 899: 1, 900: 9, 901: 1, 902: 2, 903: 7, 904: 8, 905: 5, 906: 6, 907: 1, 908: 4, 909: 9, 910: 7, 911: 1, 912: 8, 913: 1, 914: 2, 915: 5, 916: 4, 917: 7, 918: 9, 919: 1, 920: 8, 921: 3, 922: 2, 923: 1, 924: 7, 925: 5, 926: 2, 927: 9, 928: 8, 929: 1, 930: 6, 931: 7, 932: 4, 933: 3, 934: 2, 935: 5, 936: 9, 937: 1, 938: 7, 939: 3, 940: 5, 941: 1, 942: 6, 943: 1, 944: 8, 945: 9, 946: 2, 947: 1, 948: 6, 949: 1, 950: 5, 951: 3, 952: 8, 953: 1, 954: 9, 955: 5, 956: 4, 957: 3, 958: 2, 959: 7, 960: 8, 961: 1, 962: 2, 963: 9, 964: 4, 965: 5, 966: 7, 967: 1, 968: 8, 969: 3, 970: 5, 971: 1, 972: 9, 973: 7, 974: 2, 975: 5, 976: 8, 977: 1, 978: 6, 979: 1, 980: 7, 981: 9, 982: 2, 983: 1, 984: 8, 985: 5, 986: 2, 987: 7, 988: 4, 989: 1, 990: 9, 991: 1, 992: 8, 993: 3, 994: 7, 995: 5, 996: 6, 997: 1, 998: 2, 999: 9, 1000: 8}\n"
          ]
        }
      ]
    },
    {
      "cell_type": "code",
      "source": [
        "result=[i**2  for i in range (1,10)]        #lab question\n",
        "print(\"result is\",result,end='\\n')"
      ],
      "metadata": {
        "colab": {
          "base_uri": "https://localhost:8080/"
        },
        "id": "hYcNPZ6fFu2M",
        "outputId": "472ce753-cc4a-4a6d-d4f4-974c8e6ec1f1"
      },
      "execution_count": null,
      "outputs": [
        {
          "output_type": "stream",
          "name": "stdout",
          "text": [
            "result is [1, 4, 9, 16, 25, 36, 49, 64, 81]\n"
          ]
        }
      ]
    },
    {
      "cell_type": "markdown",
      "source": [
        "**assignment12**"
      ],
      "metadata": {
        "id": "4JJgi5PD-PxP"
      }
    },
    {
      "cell_type": "code",
      "source": [
        "# python program to remove empty tuples from the list\n",
        "tuples=[(),('ram','15','8'),(),('laxman','sita'),('krishna','akbar','45'),('',''),()]\n",
        "tuples2=[(\",\",'8'),(),('0','00','000'),('birbal',\",'45'),(\"),(),('',''),()]\n",
        "filtered_tuple=[t for t in tuples if t !=()]\n",
        "filtered_tuples2=[t for t in tuples2 if t !=()] # use of list comprehension\n",
        "print(\"result is \",('\\n'),filtered_tuple,('\\n'),filtered_tuples2)"
      ],
      "metadata": {
        "colab": {
          "base_uri": "https://localhost:8080/"
        },
        "id": "oexZvUnn34o8",
        "outputId": "45ae5707-535f-49db-e11a-0ade6b519053"
      },
      "execution_count": null,
      "outputs": [
        {
          "output_type": "stream",
          "name": "stdout",
          "text": [
            "result is  \n",
            " [('ram', '15', '8'), ('laxman', 'sita'), ('krishna', 'akbar', '45'), ('', '')] \n",
            " [(',', '8'), ('0', '00', '000'), ('birbal', \",'45'),(\"), ('', '')]\n"
          ]
        }
      ]
    },
    {
      "cell_type": "code",
      "source": [
        "# python program to duplicates from a list of integers from a given input\n",
        "input_list=[10,20,30,20,20,30,40,50,-20,60,60,-20,-20]\n",
        "s=set()     # set  is used to store the elements\n",
        "duplicates=[]  # used to store duplicates\n",
        "for num in input_list:\n",
        "    if num in s:\n",
        "        duplicates.append(num)\n",
        "    else:\n",
        "        s.add(num)\n",
        "print(\"resulted duplicate elements are  :\",duplicates)\n"
      ],
      "metadata": {
        "colab": {
          "base_uri": "https://localhost:8080/"
        },
        "id": "iasjFApZ34cQ",
        "outputId": "2506d5ad-65b5-470f-f900-f8cb3a0fa16d"
      },
      "execution_count": null,
      "outputs": [
        {
          "output_type": "stream",
          "name": "stdout",
          "text": [
            "resulted duplicate elements are  : [20, 20, 30, 60, -20, -20]\n"
          ]
        }
      ]
    },
    {
      "cell_type": "code",
      "source": [
        "# python program to duplicates from a list of integers from a given input    : in list comprehension way\n",
        "input_list=[10,20,30,20,20,30,40,50,-20,60,60,-20,-20]\n",
        "duplicate=[num for num in input_list if input_list.count(num)>1]\n",
        "duplicate=list(set(duplicate))\n",
        "print(\" duplicate elements are:\",duplicate)"
      ],
      "metadata": {
        "colab": {
          "base_uri": "https://localhost:8080/"
        },
        "id": "PpTWYrdd320_",
        "outputId": "b5e40850-70d4-4430-fa9b-cbe5dc13df56"
      },
      "execution_count": null,
      "outputs": [
        {
          "output_type": "stream",
          "name": "stdout",
          "text": [
            " duplicate elements are: [20, -20, 30, 60]\n"
          ]
        }
      ]
    },
    {
      "cell_type": "code",
      "source": [],
      "metadata": {
        "id": "WBLjQ2tXj03q"
      },
      "execution_count": null,
      "outputs": []
    },
    {
      "cell_type": "code",
      "source": [
        "# program to generate random password\n",
        "import random\n",
        "import string                      # lab questions\n",
        "password_length=10\n",
        "characters=string.digits\n",
        "password=''                      #lab question\n",
        "while len(password)<(password_length):\n",
        "  password+=random.choice(characters)\n",
        "print(\" result is\",password)"
      ],
      "metadata": {
        "colab": {
          "base_uri": "https://localhost:8080/"
        },
        "id": "uI6I1XkbKJAh",
        "outputId": "1c23e350-3287-4b5a-bc8f-2f4dc8f00392"
      },
      "execution_count": null,
      "outputs": [
        {
          "output_type": "stream",
          "name": "stdout",
          "text": [
            " result is 3590992892\n"
          ]
        }
      ]
    },
    {
      "cell_type": "markdown",
      "source": [
        "*assignment 13*"
      ],
      "metadata": {
        "id": "3PphKpo0j3A1"
      }
    },
    {
      "cell_type": "code",
      "source": [
        "# python program to convert a list of tuples into dictionary\n",
        "tuples=[(\"akash\",10)]\n",
        "dictionary={}\n",
        "for item in tuples:\n",
        "    key,value=item\n",
        "    dictionary[key]=[value]\n",
        "print(\"the resulted dictionary is:\",dictionary)"
      ],
      "metadata": {
        "colab": {
          "base_uri": "https://localhost:8080/"
        },
        "id": "TZpDltEyj2m4",
        "outputId": "620bf926-cf29-443b-e493-4c096ddb06c5"
      },
      "execution_count": null,
      "outputs": [
        {
          "output_type": "stream",
          "name": "stdout",
          "text": [
            "the resulted dictionary is: {'akash': [10]}\n"
          ]
        }
      ]
    },
    {
      "cell_type": "code",
      "source": [
        "# python program to remove all the duplicate words in a sentence\n",
        "input=\"python is great and java is also great\"\n",
        "words=input.split()\n",
        "print(words)\n",
        "output=[]\n",
        "for word in words:\n",
        "    if(input.count(word)>=1 and ( word not in output)):\n",
        "        output.append(word)\n",
        "print(\"the new sentence is :\",output)"
      ],
      "metadata": {
        "id": "0jaBau-ij1E_",
        "colab": {
          "base_uri": "https://localhost:8080/"
        },
        "outputId": "6cd66657-53d5-4bd1-e59b-fa4868b3cd97"
      },
      "execution_count": null,
      "outputs": [
        {
          "output_type": "stream",
          "name": "stdout",
          "text": [
            "['python', 'is', 'great', 'and', 'java', 'is', 'also', 'great']\n",
            "the new sentence is : ['python', 'is', 'great', 'and', 'java', 'also']\n"
          ]
        }
      ]
    },
    {
      "cell_type": "code",
      "source": [
        "t=(\"hello@python.org\")\n",
        "w=t.split('@')\n",
        "print(w)"
      ],
      "metadata": {
        "colab": {
          "base_uri": "https://localhost:8080/"
        },
        "id": "MqS6yZEE2-E0",
        "outputId": "3344e3a3-2189-4d2e-8462-d72facb4a264"
      },
      "execution_count": null,
      "outputs": [
        {
          "output_type": "stream",
          "name": "stdout",
          "text": [
            "['hello', 'python.org']\n"
          ]
        }
      ]
    },
    {
      "cell_type": "code",
      "source": [
        "# wap to create dictionary and check the key is present or not handle the case if it is not present\n",
        "try:\n",
        "      dictionary={'dhoni':'7','virat':'18','gayle':'333'}\n",
        "      print(\"value is\",dictionary)\n",
        "      key=input(\"enter a key:\")\n",
        "      if key in dictionary:\n",
        "        print(\"the value for '{}'is{}\".format(key,dict[key]))\n",
        "except:                                                                     # lab question\n",
        "     print(\"value is not found\",format(key))\n",
        "else:\n",
        "   print(\"the value for '{}'is{}\".format(key,dict[key]))\n",
        "finally:\n",
        "  print(\"out of the program\")\n",
        "\n",
        "\n",
        "\n"
      ],
      "metadata": {
        "colab": {
          "base_uri": "https://localhost:8080/"
        },
        "id": "Y9rQyg9cdzy2",
        "outputId": "ea82af9b-63ef-4eb5-cc2c-d1de3b0d1b4a"
      },
      "execution_count": null,
      "outputs": [
        {
          "output_type": "stream",
          "name": "stdout",
          "text": [
            "value is {'dhoni': '7', 'virat': '18', 'gayle': '333'}\n",
            "value is not found akash\n",
            "out of the program\n"
          ]
        }
      ]
    },
    {
      "cell_type": "markdown",
      "source": [
        "**assignment 14**"
      ],
      "metadata": {
        "id": "5o20Feq_9pI6"
      }
    },
    {
      "cell_type": "code",
      "source": [
        "#  wap that  is roll a dice 500 times and print the number of times  1to 6 has appeared\n",
        "import random\n",
        "count=[0,0,0,0,0,0]\n",
        "for i in range(500):\n",
        "      roll=random.randint(1,6)\n",
        "      count[roll-1]+=1\n",
        "for  number in range(6):\n",
        "    print(f\"number {number+1} appeared {count[number]} times\")\n",
        "    total=sum(count)\n",
        "print(f\" total is  {total}\")\n"
      ],
      "metadata": {
        "colab": {
          "base_uri": "https://localhost:8080/"
        },
        "id": "IWm7KpMb9nCG",
        "outputId": "67d3d8a0-effc-4638-abf6-cb03604985c7"
      },
      "execution_count": null,
      "outputs": [
        {
          "output_type": "stream",
          "name": "stdout",
          "text": [
            "number 1 appeared 91 times\n",
            "number 2 appeared 79 times\n",
            "number 3 appeared 85 times\n",
            "number 4 appeared 70 times\n",
            "number 5 appeared 99 times\n",
            "number 6 appeared 76 times\n",
            " total is  500\n"
          ]
        }
      ]
    },
    {
      "cell_type": "code",
      "source": [
        "# wap to generate a matrix and print all the even numbers in it\n",
        "import random\n",
        "rows=int(input(\"Enter the number of rows:\"))\n",
        "columns=int(input(\"Enter the number of coluumns:\"))\n",
        "matrix=[]\n",
        "for i in range(0,rows):\n",
        "    row=[]\n",
        "    for j in range(0,columns):\n",
        "        row.append(random.randint(0,100))\n",
        "    matrix.append(row)\n",
        "for i in range(0,rows):\n",
        "    for j in range(0,columns):\n",
        "        print(f\"{matrix[i][j]}\",end='\\t')\n",
        "    print(\"\\n\")\n",
        "even=[matrix[i][j] for i in range(0,rows) for j in range(0,columns) if matrix[i][j]%2==0 ]\n",
        "print(f\"All the even numbers in the matrix are:{even}\")\n",
        "\n",
        "\n",
        "\n"
      ],
      "metadata": {
        "colab": {
          "base_uri": "https://localhost:8080/"
        },
        "id": "SAKmtfj_9odI",
        "outputId": "ceaf16f6-5d9e-43fb-9f48-9cdd575439eb"
      },
      "execution_count": null,
      "outputs": [
        {
          "output_type": "stream",
          "name": "stdout",
          "text": [
            "Enter the number of rows:3\n",
            "Enter the number of coluumns:2\n",
            "84\t14\t\n",
            "\n",
            "98\t16\t\n",
            "\n",
            "35\t70\t\n",
            "\n",
            "All the even numbers in the matrix are:[84, 14, 98, 16, 70]\n"
          ]
        }
      ]
    },
    {
      "cell_type": "code",
      "source": [
        "# solve all the python program using random.choice\n",
        "# generate  a alphabetical character\n",
        "# generate a random alphabetical string of arbitary length\n",
        "# generate a random alphabetical string of fixed length\n",
        "#program to random alphabetical character and string\n",
        "import random\n",
        "alpha=\"ABCDEFGHIJKLMNOPQRSTUVWXYZabcdefghijklmnopqrstuvwxyz\"\n",
        "random_character=random.choice(alpha)\n",
        "print(\"The random alphabetical character is\",random_character)\n",
        "length=random.randint(1,50)\n",
        "string_arbitrary=''\n",
        "for i in range(0,length):\n",
        "    string_arbitrary+=random.choice(alpha)\n",
        "print(\"The random string with arbitrary length is\",string_arbitrary)\n",
        "len=10\n",
        "string_fixed=''\n",
        "for i in range(0,len):\n",
        "    string_fixed+=random.choice(alpha)\n",
        "print(\"The random string with fixed length is\",string_fixed)"
      ],
      "metadata": {
        "colab": {
          "base_uri": "https://localhost:8080/"
        },
        "id": "RsJ2g78o9oRv",
        "outputId": "8c658ea6-2171-49fb-8241-c5d84a6a9bf0"
      },
      "execution_count": null,
      "outputs": [
        {
          "output_type": "stream",
          "name": "stdout",
          "text": [
            "The random alphabetical character is B\n",
            "The random string with arbitrary length is XXAyXoLgzKPvuDesYYzikZucGnRgkSonkwK\n",
            "The random string with fixed length is MUQvGdgKeu\n"
          ]
        }
      ]
    },
    {
      "cell_type": "markdown",
      "source": [
        "**assignment 15**"
      ],
      "metadata": {
        "id": "dCbjvs64nq0X"
      }
    },
    {
      "cell_type": "code",
      "source": [
        "# find all the word which contain \"UU\" in the file\n",
        "my_file = open('sowpods.txt','r')    # read mode is used\n",
        "\n",
        "my_words = my_file.readlines()    #readlines is used to read all the line and store it in my_words\n",
        "\n",
        "my_words_clean = [i.strip() for i in my_words]  #it creates a new list remove all the unwanted spaces ,newline,character\n",
        "\n",
        "my_file.close()   # close is used to close the file\n",
        "\n",
        "for word in my_words_clean:\n",
        "     if \"UU\" in word:\n",
        "         print( \"words contain UU are:\",word)"
      ],
      "metadata": {
        "id": "N4tgXXhhCzUA"
      },
      "execution_count": null,
      "outputs": []
    },
    {
      "cell_type": "code",
      "source": [
        "#print all the alphabet that never appear  double in the sequence in the words in the file\n",
        "my_file_obj = open(r'sowpods.txt')    # read mode is used\n",
        "\n",
        "my_words = my_file_obj.readlines()            #readlines is used to read all the line and store it in my_words\n",
        "\n",
        "my_words_clean= [i.strip() for i in my_words]     #it creates a new list remove all the unwanted spaces ,newline,character\n",
        "my_file_obj.close()\n",
        "\n",
        "import string\n",
        "\n",
        "for i in string.ascii_uppercase:\n",
        "    flag=0\n",
        "    for word in my_words_clean:\n",
        "        if i*2 in word:\n",
        "            flag=1\n",
        "            break\n",
        "    if (flag==0):\n",
        "        print(\"the alphabets are:\",i)"
      ],
      "metadata": {
        "id": "P5M1w1FIoxht"
      },
      "execution_count": null,
      "outputs": []
    },
    {
      "cell_type": "code",
      "source": [
        "# print the words which contain all the vowels in the file\n",
        "my_file = open(r\"sowpods.txt\")       # read mode is used\n",
        "\n",
        "my_words = my_file.readlines()        #readlines is used to read all the line and store it in my_words\n",
        "\n",
        "my_words_clean = [i.strip() for i in my_words]     #it creates a new list remove all the unwanted spaces ,newline,character\n",
        "\n",
        "my_file.close()\n",
        "\n",
        "import string\n",
        "\n",
        "\n",
        "for word in my_words_clean:\n",
        "    all_vowels = True\n",
        "    for vow in \"AEIOU\":\n",
        "        if vow not in word:\n",
        "            all_vowels = False\n",
        "            break\n",
        "    if(all_vowels):\n",
        "        print(\" words contain vowel are:\",word)"
      ],
      "metadata": {
        "id": "UlsGNhatpB8H"
      },
      "execution_count": null,
      "outputs": []
    },
    {
      "cell_type": "code",
      "source": [
        "#print all the palindrome word in the file\n",
        "my_file= open(r\"sowpods.txt\")      # read mode is used\n",
        "\n",
        "my_words = my_file.readlines()      #readlines is used to read all the line and store it in my_words\n",
        "\n",
        "my_words_clean= [i.strip() for i in my_words]     #it creates a new list remove all the unwanted spaces ,newline,character\n",
        "\n",
        "my_file.close()\n",
        "def is_palindrome (word):\n",
        "     if word == word[::-1]:\n",
        "         return True\n",
        "     else:\n",
        "         return False\n",
        "\n",
        "for word in my_words_clean:\n",
        "    if (is_palindrome (word)):\n",
        "        print(word)"
      ],
      "metadata": {
        "id": "eILwEnXJpDis"
      },
      "execution_count": null,
      "outputs": []
    },
    {
      "cell_type": "markdown",
      "source": [
        "**assignment 16**"
      ],
      "metadata": {
        "id": "PgpZ55UWpStJ"
      }
    },
    {
      "cell_type": "code",
      "source": [
        "# print the longest  palindrome in sowpods.txt\n",
        "#print all the palindrome word in the file\n",
        "my_file= open(r\"sowpods.txt\")      # read mode is used\n",
        "\n",
        "my_words = my_file.readlines()      #readlines is used to read all the line and store it in my_words\n",
        "\n",
        "my_words_clean= [i.strip() for i in my_words]     #it creates a new list remove all the unwanted spaces ,newline,character\n",
        "\n",
        "my_file.close()\n",
        "def is_palindrome (word):\n",
        "     return word==word[::-1]\n",
        "largest_palindrome=\"\"\n",
        "for word in my_words_clean:\n",
        "    if is_palindrome(word) and len(word)>len(largest_palindrome):\n",
        "      largest_palindrome=word\n",
        "print(\"largest palindrome in sowpods.txt is:\",largest_palindrome)"
      ],
      "metadata": {
        "colab": {
          "base_uri": "https://localhost:8080/"
        },
        "id": "8wa4GqzWpW_l",
        "outputId": "b34be783-7930-4b81-d6bd-a4a81291c5ca"
      },
      "execution_count": null,
      "outputs": [
        {
          "output_type": "stream",
          "name": "stdout",
          "text": [
            "largest palindrome in sowpods.txt is: ROTAVATOR\n"
          ]
        }
      ]
    },
    {
      "cell_type": "code",
      "source": [
        "#print all the words that are in the sonnet_words.txt but not in sowpods.txt\n",
        "my_fille_sowpods=open(r\"sowpods.txt\")\n",
        "my_file_sonnet=open(\"sonnet_words.txt\",'r')\n",
        "sowpods_words=my_fille_sowpods.readlines()\n",
        "sonnet_words=my_file_sonnet.readlines()\n",
        "sowpods_words_list=[word.strip()for word in sowpods_words]\n",
        "sonnet_words_list=[word.strip()for word in sonnet_words]\n",
        "my_fille_sowpods.close()\n",
        "my_file_sonnet.close()\n",
        "for sonnet_words in sonnet_words_list:\n",
        "  if sonnet_words not in sowpods_words_list:\n",
        "    print(sonnet_words)"
      ],
      "metadata": {
        "id": "9xQpBQOApgoV"
      },
      "execution_count": null,
      "outputs": []
    },
    {
      "cell_type": "code",
      "source": [
        "#name and handle thr exception occured in the program\n",
        "a=3\n",
        "try:\n",
        "     if a<4:\n",
        "      a= a/(a-3)\n",
        "     print(\"try block is printing\",a)    # try block wiil  be printed\n",
        "except ZeroDivisionError as e:                      # exception block will be printed\n",
        "     print(\"Exception:\",e)\n",
        "else:\n",
        "   print(a)\n",
        "\n",
        "finally:\n",
        "  print(\" the result exception  block will be printed\")  # finally block will be printed"
      ],
      "metadata": {
        "id": "oGd5X1ayphwz"
      },
      "execution_count": null,
      "outputs": []
    },
    {
      "cell_type": "code",
      "source": [
        "#name and handle thr exception occured in the program\n",
        "l=[1,2,3]\n",
        "try:\n",
        "  print([l[3]])                          # try block wiil  be printed\n",
        "except IndexError as e:\n",
        "  print(\"index error occured:\",e)        # index error occuredd because l have 3 elements(0,1,2)\n",
        "else:\n",
        "  print(l[3])\n",
        "finally:  print(\"the result exception block will be printed\")"
      ],
      "metadata": {
        "colab": {
          "base_uri": "https://localhost:8080/"
        },
        "id": "IUdCD2pcpuZi",
        "outputId": "52f3fb5c-325f-4422-a47e-44484d9fb3d3"
      },
      "execution_count": null,
      "outputs": [
        {
          "output_type": "stream",
          "name": "stdout",
          "text": [
            "index error occured: list index out of range\n",
            "the result exception block will be printed\n"
          ]
        }
      ]
    },
    {
      "cell_type": "markdown",
      "source": [
        "**skill lab assignment1**"
      ],
      "metadata": {
        "id": "l0GVWguWGEE7"
      }
    },
    {
      "cell_type": "code",
      "source": [
        "print(\" hello world!\")\n",
        "\n",
        "\n",
        "\n",
        "\n"
      ],
      "metadata": {
        "colab": {
          "base_uri": "https://localhost:8080/"
        },
        "id": "6YdKyaN9Mrqx",
        "outputId": "8dad7429-63fa-4069-d10f-f74ef7e92d76"
      },
      "execution_count": null,
      "outputs": [
        {
          "output_type": "stream",
          "name": "stdout",
          "text": [
            " hello world!\n"
          ]
        }
      ]
    },
    {
      "cell_type": "code",
      "source": [
        "\n",
        "print(\" my name is srikant \\n my age is 21 \\n my brsanch is cse \\n my college name is silicon institute of technology \\n my address is bhubaneswar\")"
      ],
      "metadata": {
        "colab": {
          "base_uri": "https://localhost:8080/"
        },
        "id": "zlemWH4rMv_C",
        "outputId": "3463d0d3-4bd9-4f9f-8245-8fa87e2e3d8b"
      },
      "execution_count": null,
      "outputs": [
        {
          "output_type": "stream",
          "name": "stdout",
          "text": [
            " my name is srikant \n",
            " my age is 21 \n",
            " my brsanch is cse \n",
            " my college name is silicon institute of technology \n",
            " my address is bhubaneswar\n"
          ]
        }
      ]
    },
    {
      "cell_type": "code",
      "source": [
        "a=5 ;\n",
        "b= 4;\n",
        "print(a+b)\n",
        "print(a-b)\n",
        "print(a*b)\n",
        "print(a/b)\n",
        "print(a%b)"
      ],
      "metadata": {
        "colab": {
          "base_uri": "https://localhost:8080/"
        },
        "id": "t8k5Qkb_M1Ee",
        "outputId": "f912a307-e50f-490e-d8b7-208a9399ba8c"
      },
      "execution_count": null,
      "outputs": [
        {
          "output_type": "stream",
          "name": "stdout",
          "text": [
            "9\n",
            "1\n",
            "20\n",
            "1.25\n",
            "1\n"
          ]
        }
      ]
    },
    {
      "cell_type": "code",
      "source": [
        "f=int(input(\"enter  degree in f\"))\n",
        "c=(f-32)*(5/9);\n",
        "print(\" degree in celcius is \",c)"
      ],
      "metadata": {
        "colab": {
          "base_uri": "https://localhost:8080/"
        },
        "id": "baJix6F3GDY8",
        "outputId": "1b05679f-44db-4f68-a76b-3b6c71ada9fa"
      },
      "execution_count": null,
      "outputs": [
        {
          "output_type": "stream",
          "name": "stdout",
          "text": [
            "enter  degree in f40\n",
            " degree in celcius is  4.444444444444445\n"
          ]
        }
      ]
    },
    {
      "cell_type": "code",
      "source": [
        "# area and perimeter of a circle\n",
        "\n",
        "a= int(input(\"enter 1st side of trangle\"))\n",
        "b=int(input(\"enter 2nd side of trangle\"))\n",
        "h=int(input(\"enter 3rd side of trangle\"))\n",
        "r=int(input(\"enter radious value\"))\n",
        "print(\"area of circle is\",3.14*r*r)\n",
        "print(\"perimeter of circle is\",2*3.14*r)\n",
        "print( \" area of  is\",0.5*b*h )\n",
        "print(\"perimeter of circle is \",(a+b+h)/2)\n"
      ],
      "metadata": {
        "colab": {
          "base_uri": "https://localhost:8080/"
        },
        "id": "iE4oNAwxHvGF",
        "outputId": "02f90e87-cfeb-40fb-9ea4-ee2e459c4a80"
      },
      "execution_count": null,
      "outputs": [
        {
          "output_type": "stream",
          "name": "stdout",
          "text": [
            "enter 1st side of trangle4\n",
            "enter 2nd side of trangle5\n",
            "enter 3rd side of trangle7\n",
            "enter radious value10\n",
            "area of circle is 314.0\n",
            "perimeter of circle is 62.800000000000004\n",
            " area of  is 17.5\n",
            "perimeter of circle is  8.0\n"
          ]
        }
      ]
    },
    {
      "cell_type": "code",
      "source": [],
      "metadata": {
        "id": "eCePhyWmsgr-"
      },
      "execution_count": null,
      "outputs": []
    },
    {
      "cell_type": "markdown",
      "source": [
        "**assignment2**"
      ],
      "metadata": {
        "id": "_oCSWgZlsf1K"
      }
    },
    {
      "cell_type": "markdown",
      "source": [],
      "metadata": {
        "id": "rrfLqGify1u9"
      }
    },
    {
      "cell_type": "code",
      "source": [
        "a=[1,2,34,5,6]\n",
        "print(a)"
      ],
      "metadata": {
        "colab": {
          "base_uri": "https://localhost:8080/"
        },
        "id": "Ogd7ogzwslEG",
        "outputId": "b6722726-da98-45b1-8705-fd29a7c8f1c7"
      },
      "execution_count": null,
      "outputs": [
        {
          "output_type": "stream",
          "name": "stdout",
          "text": [
            "[1, 2, 34, 5, 6]\n"
          ]
        }
      ]
    },
    {
      "cell_type": "code",
      "source": [
        "a=input(\"enter  the values:\")\n",
        "print(a)"
      ],
      "metadata": {
        "colab": {
          "base_uri": "https://localhost:8080/"
        },
        "id": "Q9Sh-ecbzZFZ",
        "outputId": "4ae0d6ea-df22-4bdc-c586-053ff9e6db7c"
      },
      "execution_count": null,
      "outputs": [
        {
          "output_type": "stream",
          "name": "stdout",
          "text": [
            "enter  the values:[1,2,3,4,5]\n",
            "[1,2,3,4,5]\n"
          ]
        }
      ]
    },
    {
      "cell_type": "code",
      "source": [
        "a=[12,3,3]\n",
        "b=[2,3,4]\n",
        "c=a+b\n",
        "print(c)"
      ],
      "metadata": {
        "colab": {
          "base_uri": "https://localhost:8080/"
        },
        "id": "pfKwbMfys5sH",
        "outputId": "2d7ab2b9-d23e-4b67-d486-1e13e8f30b7e"
      },
      "execution_count": null,
      "outputs": [
        {
          "output_type": "stream",
          "name": "stdout",
          "text": [
            "[12, 3, 3, 2, 3, 4]\n"
          ]
        }
      ]
    },
    {
      "cell_type": "code",
      "source": [
        "a=input(\"enter value of a:\")\n",
        "b=input(\"enter value of b:\")\n",
        "c=a+b\n",
        "print(\"addiotion is :\",c)"
      ],
      "metadata": {
        "colab": {
          "base_uri": "https://localhost:8080/"
        },
        "id": "orPG7-QCzpoJ",
        "outputId": "e5a63952-05f0-4097-b891-2cc621d91d84"
      },
      "execution_count": null,
      "outputs": [
        {
          "output_type": "stream",
          "name": "stdout",
          "text": [
            "enter value of a:[1,3,4,]\n",
            "enter value of b:[2,5,6]\n",
            "addiotion is : [1,3,4,][2,5,6]\n"
          ]
        }
      ]
    },
    {
      "cell_type": "code",
      "source": [
        "a={1:\"india\",2:\"china\",3:\"usa\"}\n",
        "print(a)"
      ],
      "metadata": {
        "colab": {
          "base_uri": "https://localhost:8080/"
        },
        "id": "jdq1vWWTuNkK",
        "outputId": "5fbcda0d-ed3b-43d4-9f89-559d6276469f"
      },
      "execution_count": null,
      "outputs": [
        {
          "output_type": "stream",
          "name": "stdout",
          "text": [
            "{1: 'india', 2: 'china', 3: 'usa'}\n"
          ]
        }
      ]
    },
    {
      "cell_type": "code",
      "source": [
        "a={1,4,5,7}\n",
        "print(a)"
      ],
      "metadata": {
        "colab": {
          "base_uri": "https://localhost:8080/"
        },
        "id": "9aeaUb2QuZnR",
        "outputId": "d4a215fe-3d74-46e9-e189-1cf6e9a78443"
      },
      "execution_count": null,
      "outputs": [
        {
          "output_type": "stream",
          "name": "stdout",
          "text": [
            "{1, 4, 5, 7}\n"
          ]
        }
      ]
    },
    {
      "cell_type": "code",
      "source": [
        "A={1,2,3,8,9}\n",
        "B={3,5,6,7,8,9}\n",
        "print(\"Union :\", A | B)\n",
        "\n",
        "print(\"Intersection :\", A & B)\n",
        "\n",
        "print(\"Difference :\", A - B)\n"
      ],
      "metadata": {
        "colab": {
          "base_uri": "https://localhost:8080/"
        },
        "id": "UOFSsS5tukM7",
        "outputId": "c24f0799-3828-4037-c0e4-1750539ac0d3"
      },
      "execution_count": null,
      "outputs": [
        {
          "output_type": "stream",
          "name": "stdout",
          "text": [
            "Union : {1, 2, 3, 5, 6, 7, 8, 9}\n",
            "Intersection : {8, 9, 3}\n",
            "Difference : {1, 2}\n"
          ]
        }
      ]
    },
    {
      "cell_type": "code",
      "source": [
        "a=[1,2,3,4,5,6,7,8,9]\n",
        "b=a.copy()\n",
        "print(b)\n"
      ],
      "metadata": {
        "colab": {
          "base_uri": "https://localhost:8080/"
        },
        "id": "u9d4skr7wAwG",
        "outputId": "f9efb1ec-77ed-4cd6-de9d-38940583c083"
      },
      "execution_count": null,
      "outputs": [
        {
          "output_type": "stream",
          "name": "stdout",
          "text": [
            "[1, 2, 3, 4, 5, 6, 7, 8, 9]\n"
          ]
        }
      ]
    },
    {
      "cell_type": "code",
      "source": [
        "A={1,22,33,4,5,77}\n",
        "B=22\n",
        "c=B in A\n",
        "print(c)"
      ],
      "metadata": {
        "colab": {
          "base_uri": "https://localhost:8080/"
        },
        "id": "tpLY-o8GwvMI",
        "outputId": "04bd74f6-8b7c-4869-f5a0-97c12b7400cc"
      },
      "execution_count": null,
      "outputs": [
        {
          "output_type": "stream",
          "name": "stdout",
          "text": [
            "True\n"
          ]
        }
      ]
    },
    {
      "cell_type": "code",
      "source": [
        "my_tuple = (1, 2, 3, 4, 5)\n",
        "element_to_find = 3\n",
        "found = False\n",
        "\n",
        "for element in my_tuple:\n",
        "    if element == element_to_find:\n",
        "        found = True\n",
        "        break\n",
        "print(found)"
      ],
      "metadata": {
        "colab": {
          "base_uri": "https://localhost:8080/"
        },
        "id": "_l9kXZDNxQde",
        "outputId": "7d91fc90-31ee-4a01-b85e-1d3256a535e4"
      },
      "execution_count": null,
      "outputs": [
        {
          "output_type": "stream",
          "name": "stdout",
          "text": [
            "True\n"
          ]
        }
      ]
    },
    {
      "cell_type": "code",
      "source": [
        "name=input(\"enter your name:\")\n",
        "print(\"your name is\",name)"
      ],
      "metadata": {
        "colab": {
          "base_uri": "https://localhost:8080/"
        },
        "id": "6w9NwXjDxT0j",
        "outputId": "836b1c23-e33e-456b-d392-7fb28f748001"
      },
      "execution_count": null,
      "outputs": [
        {
          "output_type": "stream",
          "name": "stdout",
          "text": [
            "enter your name:srikant\n",
            "your name is srikant\n"
          ]
        }
      ]
    },
    {
      "cell_type": "code",
      "source": [
        "a=\"hello world\"\n",
        "b=\"llo\"\n",
        "c=b in a\n",
        "print(c)"
      ],
      "metadata": {
        "colab": {
          "base_uri": "https://localhost:8080/"
        },
        "id": "bm4C6gw4yClZ",
        "outputId": "98fb978a-5cba-4a93-8cf7-dfa8da823146"
      },
      "execution_count": null,
      "outputs": [
        {
          "output_type": "stream",
          "name": "stdout",
          "text": [
            "True\n"
          ]
        }
      ]
    },
    {
      "cell_type": "code",
      "source": [
        "a={1,2,3,4,5,6}\n",
        "b={7,8,9,5,6,1}\n",
        "print(\"a union b is:\",a|b)\n",
        "print(\"a intersection b is\",a&b)\n",
        "print(\"a difference b is \",a-b)"
      ],
      "metadata": {
        "colab": {
          "base_uri": "https://localhost:8080/"
        },
        "id": "15Srd47DyRnS",
        "outputId": "524b7f7c-b93f-4b40-fc14-62360e283ae1"
      },
      "execution_count": null,
      "outputs": [
        {
          "output_type": "stream",
          "name": "stdout",
          "text": [
            "a union b is: {1, 2, 3, 4, 5, 6, 7, 8, 9}\n",
            "a intersection b is {1, 5, 6}\n",
            "a difference b is  {2, 3, 4}\n"
          ]
        }
      ]
    },
    {
      "cell_type": "code",
      "source": [
        "a=\"hello\"\n",
        "b=\"HELLO\"\n",
        "a=b.lower()\n",
        "b=a.upper()\n",
        "print(b)\n",
        "print(a)"
      ],
      "metadata": {
        "colab": {
          "base_uri": "https://localhost:8080/"
        },
        "id": "Q5j3pnPv0fVp",
        "outputId": "01bc5865-53aa-4cf1-b5a7-5087939c4520"
      },
      "execution_count": null,
      "outputs": [
        {
          "output_type": "stream",
          "name": "stdout",
          "text": [
            "HELLO\n",
            "hello\n"
          ]
        }
      ]
    },
    {
      "cell_type": "markdown",
      "source": [
        "**Assignment-3**"
      ],
      "metadata": {
        "id": "pJy6HBkq8Mvx"
      }
    },
    {
      "cell_type": "code",
      "source": [
        "# wap to check whether a user input string is palindrome or not\n",
        "str1=input(\"enter a string:\")\n",
        "len=len(str1)\n",
        "str2=str1[len::-1]\n",
        "if(str1==str2):\n",
        "    print(str1,\": the string is a palindrome\")\n",
        "else:\n",
        "  print(str1,\": the string is not a palindrome\")"
      ],
      "metadata": {
        "colab": {
          "base_uri": "https://localhost:8080/"
        },
        "id": "eJHgYqRg8eY3",
        "outputId": "5cc0446e-ea1a-4253-af61-e0c1c60fb4aa"
      },
      "execution_count": null,
      "outputs": [
        {
          "output_type": "stream",
          "name": "stdout",
          "text": [
            "enter a string:try\n",
            "try : the string is not a palindrome\n"
          ]
        }
      ]
    },
    {
      "cell_type": "code",
      "source": [],
      "metadata": {
        "id": "SoQCf5N3F-Vq"
      },
      "execution_count": null,
      "outputs": []
    },
    {
      "cell_type": "code",
      "source": [
        "\n",
        "input_string = input(\"Enter a string: \")\n",
        "\n",
        "char_count = {}\n",
        "\n",
        "for char in input_string:\n",
        "\n",
        "    char_count[char] = char_count.get(char, 0) + 1\n",
        "\n",
        "print(\"Duplicate characters in the string:\")\n",
        "for char, count in char_count.items():\n",
        "    if count > 1:\n",
        "        print(f\"'{char}' occurs {count} times\")\n"
      ],
      "metadata": {
        "colab": {
          "base_uri": "https://localhost:8080/"
        },
        "id": "mbCVVq46IN_o",
        "outputId": "7c22ac24-c35f-468f-a3c5-3f3c3d101eef"
      },
      "execution_count": null,
      "outputs": [
        {
          "output_type": "stream",
          "name": "stdout",
          "text": [
            "Enter a string: i am a boy\n",
            "Duplicate characters in the string:\n",
            "' ' occurs 3 times\n",
            "'a' occurs 2 times\n"
          ]
        }
      ]
    },
    {
      "cell_type": "code",
      "source": [
        "\n",
        "rows = int(input(\"Enter the number of rows: \"))\n",
        "columns = int(input(\"Enter the number of columns: \"))\n",
        "matrix = []\n",
        "print(\"Enter the matrix elements row by row:\")\n",
        "for _ in range(rows):\n",
        "    row = [int(x) for x in input().split()]\n",
        "    matrix.append(row)\n",
        "print(\"\\nOriginal matrix:\")\n",
        "for row in matrix:\n",
        "    print(*row)\n",
        "transposed_matrix = []\n",
        "for j in range(columns):\n",
        "    transposed_row = [matrix[i][j] for i in range(rows)]\n",
        "    transposed_matrix.append(transposed_row)\n",
        "print(\"\\nTransposed matrix:\")\n",
        "for row in transposed_matrix:\n",
        "    print(*row)\n"
      ],
      "metadata": {
        "id": "6yBcslIqIoY9"
      },
      "execution_count": null,
      "outputs": []
    },
    {
      "cell_type": "code",
      "source": [
        "\n",
        "input_string = input(\"Enter a string: \")\n",
        "punctuation_marks = {'.', ',', '!', '?', ';', ':', '\"', \"'\", '(', ')', '[', ']', '{', '}', '-'}\n",
        "cleaned_string = \"\"\n",
        "for char in input_string:\n",
        "    if char not in punctuation_marks:\n",
        "        cleaned_string += char\n",
        "print(\"String after removing punctuation:\")\n",
        "print(cleaned_string)\n"
      ],
      "metadata": {
        "colab": {
          "base_uri": "https://localhost:8080/"
        },
        "id": "PwzCy5F1JLzQ",
        "outputId": "9771664f-19f8-4522-b794-b905a73089e1"
      },
      "execution_count": null,
      "outputs": [
        {
          "output_type": "stream",
          "name": "stdout",
          "text": [
            "Enter a string: s#*&^5hfqsj\n",
            "String after removing punctuation:\n",
            "s#*&^5hfqsj\n"
          ]
        }
      ]
    },
    {
      "cell_type": "code",
      "source": [
        "#\n",
        "my_set = {1, 2, 3, 4}\n",
        "another_set = set([3, 4, 5, 6])\n",
        "print(\"First set:\", my_set)\n",
        "print(\"Second set:\", another_set)\n"
      ],
      "metadata": {
        "colab": {
          "base_uri": "https://localhost:8080/"
        },
        "id": "KsQvLS2tJ89i",
        "outputId": "94814cac-1b49-4771-b8e7-574f38ebb5ac"
      },
      "execution_count": null,
      "outputs": [
        {
          "output_type": "stream",
          "name": "stdout",
          "text": [
            "First set: {1, 2, 3, 4}\n",
            "Second set: {3, 4, 5, 6}\n"
          ]
        }
      ]
    },
    {
      "cell_type": "code",
      "source": [
        "\n",
        "for element in my_set:\n",
        "    print(element)\n"
      ],
      "metadata": {
        "colab": {
          "base_uri": "https://localhost:8080/"
        },
        "id": "xWTPK7_TKV9g",
        "outputId": "787e86d2-d91b-45c6-b8d1-afe354674d6b"
      },
      "execution_count": null,
      "outputs": [
        {
          "output_type": "stream",
          "name": "stdout",
          "text": [
            "1\n",
            "2\n",
            "3\n",
            "4\n"
          ]
        }
      ]
    },
    {
      "cell_type": "code",
      "source": [
        "\n",
        "my_set = {1, 2, 3}\n",
        "my_set.add(4)\n",
        "my_set.add(5)\n",
        "print(\"Updated set after adding members:\", my_set)\n"
      ],
      "metadata": {
        "id": "25ytqnPTKZCI"
      },
      "execution_count": null,
      "outputs": []
    },
    {
      "cell_type": "code",
      "source": [
        "\n",
        "my_set = {1, 2, 3, 4}\n",
        "my_set.remove(2)\n",
        "print(\"Updated set after removing item:\", my_set)\n"
      ],
      "metadata": {
        "id": "IvCRjtSBKoBK"
      },
      "execution_count": null,
      "outputs": []
    },
    {
      "cell_type": "code",
      "source": [
        "# Create a set\n",
        "my_set = {1, 2, 3, 4}\n",
        "item_to_remove = 3\n",
        "if item_to_remove in my_set:\n",
        "    my_set.remove(item_to_remove)\n",
        "print(\"Updated set after conditional removal:\", my_set)\n"
      ],
      "metadata": {
        "id": "UsN-WZ2UKqW1"
      },
      "execution_count": null,
      "outputs": []
    },
    {
      "cell_type": "code",
      "source": [
        "\n",
        "set_a = {1, 2, 3}\n",
        "set_b = {3, 4, 5}\n",
        "intersection = {x for x in set_a if x in set_b}\n",
        "print(\"Intersection of sets:\", intersection)\n"
      ],
      "metadata": {
        "id": "EzLE_MtbKs_V"
      },
      "execution_count": null,
      "outputs": []
    },
    {
      "cell_type": "code",
      "source": [
        "set1 = {1, 2, 3}\n",
        "set2 = {3, 4, 5}\n",
        "union_set = set1 | set2\n",
        "print(union_set)\n"
      ],
      "metadata": {
        "id": "dnjzrHUuLj2l"
      },
      "execution_count": null,
      "outputs": []
    },
    {
      "cell_type": "code",
      "source": [
        "set1 = {1, 2, 3}\n",
        "set2 = {3, 4, 5}\n",
        "difference_set = set1 - set2\n",
        "print(difference_set)\n"
      ],
      "metadata": {
        "id": "0Qb_oktSLsUR"
      },
      "execution_count": null,
      "outputs": []
    },
    {
      "cell_type": "code",
      "source": [
        "set1 = {1, 2, 3}\n",
        "set2 = {3, 4, 5}\n",
        "symmetric_difference_set = set1 ^ set2\n",
        "print(symmetric_difference_set)\n"
      ],
      "metadata": {
        "id": "2jv96tX0LvH1"
      },
      "execution_count": null,
      "outputs": []
    },
    {
      "cell_type": "code",
      "source": [
        "set_a = {1, 2}\n",
        "set_b = {1, 2, 3}\n",
        "is_subset = True\n",
        "for element in set_a:\n",
        "    if element not in set_b:\n",
        "        is_subset = False\n",
        "        break\n",
        "print(is_subset)\n"
      ],
      "metadata": {
        "id": "vor4EhtHL4IN"
      },
      "execution_count": null,
      "outputs": []
    },
    {
      "cell_type": "code",
      "source": [
        "# Define two matrices (you can modify these as needed)\n",
        "matrix1 = [\n",
        "    [1, 2, 3],\n",
        "    [4, 5, 6],\n",
        "    [7, 8, 9]\n",
        "]\n",
        "\n",
        "matrix2 = [\n",
        "    [9, 8, 7],\n",
        "    [6, 5, 4],\n",
        "    [3, 2, 1]\n",
        "]\n",
        "result_matrix = []\n",
        "for i in range(len(matrix1)):\n",
        "    result_row = []\n",
        "    for j in range(len(matrix1[0])):\n",
        "        result_row.append(matrix1[i][j] + matrix2[i][j])\n",
        "    result_matrix.append(result_row)\n",
        "\n",
        "for row in result_matrix:\n",
        "    print(row)\n"
      ],
      "metadata": {
        "id": "GE1PLk05MnFn"
      },
      "execution_count": null,
      "outputs": []
    },
    {
      "cell_type": "code",
      "source": [
        "a=int(input(\"enter a value\"))\n",
        "b= int (a**(1/2))\n",
        "print(  b)"
      ],
      "metadata": {
        "colab": {
          "base_uri": "https://localhost:8080/"
        },
        "id": "71yksTzDO--6",
        "outputId": "e0207473-de8e-4845-e09c-ab3611480f6e"
      },
      "execution_count": null,
      "outputs": [
        {
          "output_type": "stream",
          "name": "stdout",
          "text": [
            "enter a value9\n",
            "3\n"
          ]
        }
      ]
    },
    {
      "cell_type": "code",
      "source": [
        "a=int(input(\"enter a number\"))\n",
        "if a%2==0:\n",
        "  print(\"a is even\")\n",
        "else:\n",
        " print(\"a is odd\")"
      ],
      "metadata": {
        "colab": {
          "base_uri": "https://localhost:8080/"
        },
        "id": "ertg2SD6Pmj5",
        "outputId": "bb206d2a-c388-460b-d3a4-6eceb4411ebb"
      },
      "execution_count": null,
      "outputs": [
        {
          "output_type": "stream",
          "name": "stdout",
          "text": [
            "enter a number12\n",
            "a is even\n"
          ]
        }
      ]
    },
    {
      "cell_type": "markdown",
      "source": [
        "Assignment4\n"
      ],
      "metadata": {
        "id": "SMefSeHltFXN"
      }
    },
    {
      "cell_type": "code",
      "source": [
        "l1=[2,3,4,5,6]\n",
        "tuple(l1)\n",
        "print(l1)"
      ],
      "metadata": {
        "id": "aLSvn_vMne0J",
        "colab": {
          "base_uri": "https://localhost:8080/"
        },
        "outputId": "f778df5e-5b5c-443b-aff9-5a647be1607e"
      },
      "execution_count": null,
      "outputs": [
        {
          "output_type": "stream",
          "name": "stdout",
          "text": [
            "[2, 3, 4, 5, 6]\n"
          ]
        }
      ]
    },
    {
      "cell_type": "code",
      "source": [
        "s=('hello')\n",
        "t=('srikant')\n",
        "zip(s,t)\n"
      ],
      "metadata": {
        "colab": {
          "base_uri": "https://localhost:8080/"
        },
        "id": "A5lyx8oVtmhj",
        "outputId": "9a95b0cb-2e73-4c23-b093-e08435d65b03"
      },
      "execution_count": null,
      "outputs": [
        {
          "output_type": "execute_result",
          "data": {
            "text/plain": [
              "<zip at 0x7bca5dcefd80>"
            ]
          },
          "metadata": {},
          "execution_count": 3
        }
      ]
    },
    {
      "cell_type": "code",
      "source": [
        "d1=dict({1:'red',2:'green',3:'yellow'})\n",
        "d2=dict([(1,'red'),(2,'green'),(3,'yellow')])\n",
        "d3=dict(one=1,two=2,three=3)\n",
        "print (d3)\n"
      ],
      "metadata": {
        "id": "Vs5WNt43P9pu",
        "colab": {
          "base_uri": "https://localhost:8080/"
        },
        "outputId": "e05cd323-5995-44c0-a0c1-845c52df9ef0"
      },
      "execution_count": null,
      "outputs": [
        {
          "output_type": "stream",
          "name": "stdout",
          "text": [
            "{'one': 1, 'two': 2, 'three': 3}\n"
          ]
        }
      ]
    },
    {
      "cell_type": "markdown",
      "source": [
        "**ASSIGNMENT 5**\n"
      ],
      "metadata": {
        "id": "YyVShyZX_tmt"
      }
    },
    {
      "cell_type": "code",
      "source": [
        "def math(a, b):\n",
        "    addition = a + b\n",
        "    subtraction = a - b\n",
        "    multiplication = a * b\n",
        "    division = a / b\n",
        "    return addition, subtraction, multiplication, division\n",
        "\n",
        "a = float(input(\"Enter a value: \"))  # Convert input to float for division\n",
        "b = float(input(\"Enter b value: \"))\n",
        "result_add, result_sub, result_mul, result_div = math(a, b)\n",
        "\n",
        "print(\"Addition:\", result_add)\n",
        "print(\"Subtraction:\", result_sub)\n",
        "print(\"Multiplication:\", result_mul)\n",
        "print(\"Division:\", result_div)"
      ],
      "metadata": {
        "id": "puh0OXs-_s7b"
      },
      "execution_count": null,
      "outputs": []
    },
    {
      "cell_type": "code",
      "source": [
        "# Convert an integer to a string\n",
        "integer_number = 42\n",
        "integer_as_string = str(integer_number)\n",
        "print(\"Integer as string:\", integer_as_string)\n",
        "\n",
        "float_number = 3.14\n",
        "integer_from_float = int(float_number)\n",
        "print(\"Integer from float:\", integer_from_float)\n"
      ],
      "metadata": {
        "colab": {
          "base_uri": "https://localhost:8080/"
        },
        "id": "Sh3F1aqfQSLv",
        "outputId": "c11f196f-7533-4f04-8fca-514bcb7f9146"
      },
      "execution_count": null,
      "outputs": [
        {
          "output_type": "stream",
          "name": "stdout",
          "text": [
            "Integer as string: 42\n",
            "Integer from float: 3\n"
          ]
        }
      ]
    },
    {
      "cell_type": "code",
      "source": [
        "import calendar\n",
        "print(calendar.month(2020, 9))\n"
      ],
      "metadata": {
        "colab": {
          "base_uri": "https://localhost:8080/"
        },
        "id": "cX3_MxxdQT_o",
        "outputId": "29d6a81f-c402-4eb1-8beb-7898e7792d54"
      },
      "execution_count": null,
      "outputs": [
        {
          "output_type": "stream",
          "name": "stdout",
          "text": [
            "   September 2020\n",
            "Mo Tu We Th Fr Sa Su\n",
            "    1  2  3  4  5  6\n",
            " 7  8  9 10 11 12 13\n",
            "14 15 16 17 18 19 20\n",
            "21 22 23 24 25 26 27\n",
            "28 29 30\n",
            "\n"
          ]
        }
      ]
    },
    {
      "cell_type": "code",
      "source": [
        "def student_fee(name, fee=25000):\n",
        "    print(f\"The fee for {name} is: {fee}\")\n",
        "student_fee(\"Alice\")\n",
        "student_fee(\"Bob\", 30000)\n"
      ],
      "metadata": {
        "colab": {
          "base_uri": "https://localhost:8080/"
        },
        "id": "TwxuBABPQWYd",
        "outputId": "b10a7d4b-e99d-47ef-dac8-639401b4da51"
      },
      "execution_count": null,
      "outputs": [
        {
          "output_type": "stream",
          "name": "stdout",
          "text": [
            "The fee for Alice is: 25000\n",
            "The fee for Bob is: 30000\n"
          ]
        }
      ]
    },
    {
      "cell_type": "code",
      "source": [
        "def add_numbers(num1, num2):\n",
        "    return num1 + num2\n",
        "result = add_numbers(5, 3)\n",
        "print(\"Sum:\", result)\n"
      ],
      "metadata": {
        "colab": {
          "base_uri": "https://localhost:8080/"
        },
        "id": "lqRR4BLgQaz9",
        "outputId": "54f40b55-066a-4c97-98ed-1108c8a6a4d8"
      },
      "execution_count": null,
      "outputs": [
        {
          "output_type": "stream",
          "name": "stdout",
          "text": [
            "Sum: 8\n"
          ]
        }
      ]
    },
    {
      "cell_type": "code",
      "source": [
        "def swap_values(a, b):\n",
        "    temp = a\n",
        "    a = b\n",
        "    b = temp\n",
        "    return a, b\n",
        "\n",
        "x = 10\n",
        "y = 20\n",
        "x, y = swap_values(x, y)\n",
        "print(\"After swapping:\")\n",
        "print(\"x =\", x)\n",
        "print(\"y =\", y)\n"
      ],
      "metadata": {
        "colab": {
          "base_uri": "https://localhost:8080/"
        },
        "id": "aXoouYKeQtcE",
        "outputId": "47cc852f-d19c-40de-d6ea-8aed971d9441"
      },
      "execution_count": null,
      "outputs": [
        {
          "output_type": "stream",
          "name": "stdout",
          "text": [
            "After swapping:\n",
            "x = 20\n",
            "y = 10\n"
          ]
        }
      ]
    },
    {
      "cell_type": "code",
      "source": [
        "def threelines():\n",
        "    print(\"\\n\" * 3)\n",
        "\n",
        "def ninelines():\n",
        "    threelines()\n",
        "    threelines()\n",
        "    threelines()\n",
        "for _ in range(3):\n",
        "    ninelines()\n"
      ],
      "metadata": {
        "colab": {
          "base_uri": "https://localhost:8080/"
        },
        "id": "hjGTJmyKRG96",
        "outputId": "848156b5-3281-4ff1-c886-2fe94224f5c3"
      },
      "execution_count": null,
      "outputs": [
        {
          "output_type": "stream",
          "name": "stdout",
          "text": [
            "\n",
            "\n",
            "\n",
            "\n",
            "\n",
            "\n",
            "\n",
            "\n",
            "\n",
            "\n",
            "\n",
            "\n",
            "\n",
            "\n",
            "\n",
            "\n",
            "\n",
            "\n",
            "\n",
            "\n",
            "\n",
            "\n",
            "\n",
            "\n",
            "\n",
            "\n",
            "\n",
            "\n",
            "\n",
            "\n",
            "\n",
            "\n",
            "\n",
            "\n",
            "\n",
            "\n"
          ]
        }
      ]
    },
    {
      "cell_type": "code",
      "source": [
        "def get_ascii_value(char):\n",
        "    return ord(char)\n",
        "\n",
        "user_char = input(\"Enter a character: \")\n",
        "print(f\"ASCII value of '{user_char}' is {get_ascii_value(user_char)}\")\n"
      ],
      "metadata": {
        "colab": {
          "base_uri": "https://localhost:8080/"
        },
        "id": "M5AfnwpmRvs6",
        "outputId": "b28c5948-e169-4102-a4b9-cf7087ea06e6"
      },
      "execution_count": null,
      "outputs": [
        {
          "output_type": "stream",
          "name": "stdout",
          "text": [
            "Enter a character: t\n",
            "ASCII value of 't' is 116\n"
          ]
        }
      ]
    },
    {
      "cell_type": "code",
      "source": [
        "def count_vowel_words(sentence):\n",
        "    vowels = \"AEIOUaeiou\"\n",
        "    word_list = sentence.split()\n",
        "    vowel_words = [word for word in word_list if word[0] in vowels]\n",
        "\n",
        "    print(f\"Vowel words in the sentence:\")\n",
        "    for word in vowel_words:\n",
        "        print(word)\n",
        "\n",
        "    return len(vowel_words)\n",
        "\n",
        "user_sentence = input(\"Enter a sentence: \")\n",
        "num_vowel_words = count_vowel_words(user_sentence)\n",
        "print(f\"Total vowel words: {num_vowel_words}\")\n"
      ],
      "metadata": {
        "colab": {
          "base_uri": "https://localhost:8080/"
        },
        "id": "F7fhLlW3R6T-",
        "outputId": "f04362c3-087e-43cd-b2b6-44c54b391a0d"
      },
      "execution_count": null,
      "outputs": [
        {
          "output_type": "stream",
          "name": "stdout",
          "text": [
            "Enter a sentence: i am a boy\n",
            "Vowel words in the sentence:\n",
            "i\n",
            "am\n",
            "a\n",
            "Total vowel words: 3\n"
          ]
        }
      ]
    },
    {
      "cell_type": "code",
      "source": [
        "def fibonacci_recursive(n):\n",
        "    if n <= 1:\n",
        "        return n\n",
        "    else:\n",
        "        return fibonacci_recursive(n-1) + fibonacci_recursive(n-2)\n",
        "num_terms = int(input(\"Enter the number of terms for Fibonacci sequence: \"))\n",
        "print(\"Fibonacci sequence:\")\n",
        "for i in range(num_terms):\n",
        "    print(fibonacci_recursive(i), end=\" \")\n"
      ],
      "metadata": {
        "colab": {
          "base_uri": "https://localhost:8080/"
        },
        "id": "7cGmuJQuTcME",
        "outputId": "2055ba52-4d91-4848-df8a-d5006147d567"
      },
      "execution_count": null,
      "outputs": [
        {
          "output_type": "stream",
          "name": "stdout",
          "text": [
            "Enter the number of terms for Fibonacci sequence: 5\n",
            "Fibonacci sequence:\n",
            "0 1 1 2 3 "
          ]
        }
      ]
    },
    {
      "cell_type": "code",
      "source": [
        "def convert_to_bases(decimal_number):\n",
        "    binary = bin(decimal_number).replace(\"0b\", \"\")\n",
        "    octal = oct(decimal_number).replace(\"0o\", \"\")\n",
        "    hexadecimal = hex(decimal_number).replace(\"0x\", \"\").upper()\n",
        "    return binary, octal, hexadecimal\n",
        "\n",
        "# Example usage:\n",
        "user_decimal = int(input(\"Enter a decimal number: \"))\n",
        "binary_result, octal_result, hex_result = convert_to_bases(user_decimal)\n",
        "print(f\"Binary: {binary_result}\")\n",
        "print(f\"Octal: {octal_result}\")\n",
        "print(f\"Hexadecimal: {hex_result}\")\n"
      ],
      "metadata": {
        "colab": {
          "base_uri": "https://localhost:8080/"
        },
        "id": "JJpKnc_nTiUR",
        "outputId": "604b2f3c-eeed-428b-d829-be8e22ded03e"
      },
      "execution_count": null,
      "outputs": [
        {
          "output_type": "stream",
          "name": "stdout",
          "text": [
            "Enter a decimal number: 7\n",
            "Binary: 111\n",
            "Octal: 7\n",
            "Hexadecimal: 7\n"
          ]
        }
      ]
    }
  ]
}